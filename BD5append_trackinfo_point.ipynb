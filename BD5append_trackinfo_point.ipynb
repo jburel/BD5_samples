{
 "cells": [
  {
   "cell_type": "markdown",
   "metadata": {},
   "source": [
    "## BD5append_trackinfo_point\n",
    "\n",
    "BD5append_trackinfo_point is a sample code to demonstrate how to append trackInfo information into a BD5 file. The code opens a BD5 file of a time series and calculate the tracking information between objects of different time points. After finding the closest objects between two time points, we re-open the BD5 file and append the information into trackInfo dataset."
   ]
  },
  {
   "cell_type": "markdown",
   "metadata": {},
   "source": [
    "This sample code requires the user to install several packages. They are:\n",
    "\n",
    "- h5py - https://www.h5py.org/\n",
    "- Numpy - https://numpy.org/"
   ]
  },
  {
   "cell_type": "code",
   "execution_count": 1,
   "metadata": {},
   "outputs": [],
   "source": [
    "# Please consult the official websites for installation for your particular Operating system and environment.\n",
    "# The following commands installed the necessary packages for juypter notebook in a Ubuntu docker container as a sample for your reference.\n",
    "\n",
    "# Uncomment the # tag if you want the commands below to install those packages.\n",
    "\n",
    "#!pip install h5py"
   ]
  },
  {
   "cell_type": "code",
   "execution_count": 2,
   "metadata": {},
   "outputs": [],
   "source": [
    "# Original Author: Koji Kyoda\n",
    "# Contributor: Ken ho \n",
    "# Date: 7 July 2020\n",
    "# sample code for appending trackInfo into BD5 file\n",
    "\n",
    "\n",
    "import sys\n",
    "import h5py\n",
    "import numpy as np\n",
    "import matplotlib.pyplot as plt\n",
    "import math"
   ]
  },
  {
   "cell_type": "markdown",
   "metadata": {},
   "source": [
    "### Opening the BD5 file containing timeseries information"
   ]
  },
  {
   "cell_type": "code",
   "execution_count": 3,
   "metadata": {},
   "outputs": [],
   "source": [
    "inputfile = \"sample_timeseries_notrack_bd5.h5\"\n",
    "fi = h5py.File(inputfile, \"r\")\n",
    "groups = fi['data']"
   ]
  },
  {
   "cell_type": "markdown",
   "metadata": {},
   "source": [
    "Under BD5 data group, there are time sequence and other groups like objectDef, scaleUnit, etc."
   ]
  },
  {
   "cell_type": "code",
   "execution_count": 4,
   "metadata": {},
   "outputs": [
    {
     "data": {
      "text/plain": [
       "<KeysViewHDF5 ['0', '1', 'objectDef', 'scaleUnit']>"
      ]
     },
     "execution_count": 4,
     "metadata": {},
     "output_type": "execute_result"
    }
   ],
   "source": [
    "groups.keys()"
   ]
  },
  {
   "cell_type": "markdown",
   "metadata": {},
   "source": [
    " We create a list that we want to exclude"
   ]
  },
  {
   "cell_type": "code",
   "execution_count": 5,
   "metadata": {},
   "outputs": [],
   "source": [
    "exclude_list = ['objectDef', 'scaleUnit', 'trackInfo']"
   ]
  },
  {
   "cell_type": "markdown",
   "metadata": {},
   "source": [
    "### Finding a list of timeseries \n",
    "by excluding those members in the exclude_list"
   ]
  },
  {
   "cell_type": "code",
   "execution_count": 6,
   "metadata": {},
   "outputs": [
    {
     "data": {
      "text/plain": [
       "{'0', '1'}"
      ]
     },
     "execution_count": 6,
     "metadata": {},
     "output_type": "execute_result"
    }
   ],
   "source": [
    "timeseries = set(groups.keys()) - set(exclude_list)\n",
    "timeseries"
   ]
  },
  {
   "cell_type": "markdown",
   "metadata": {},
   "source": [
    "### Creating a numpy array \"track_arr\" \n",
    "The numpy array is used to store tracking information, 'from', 'to' and 'distance'"
   ]
  },
  {
   "cell_type": "code",
   "execution_count": 7,
   "metadata": {},
   "outputs": [],
   "source": [
    "track_descr = np.dtype({'names': ['from','to', 'dis'], 'formats': ['S32', 'S32', 'f8']})\n",
    "track_arr = np.empty([0, 1], dtype=track_descr)"
   ]
  },
  {
   "cell_type": "markdown",
   "metadata": {},
   "source": [
    "### Creating a function \"min_dis\"\n",
    "The function is to find a list of minimal distance between objects in different time point given a track_arr"
   ]
  },
  {
   "cell_type": "code",
   "execution_count": 8,
   "metadata": {},
   "outputs": [],
   "source": [
    "def min_dis(trackarray):\n",
    "    min_dis = 1000.0\n",
    "    min_list = []\n",
    "    for i in trackarray:\n",
    "#        print(i['dis'])\n",
    "        if i['dis'] < min_dis:\n",
    "            min_dis = i['dis']\n",
    "            min_list = (i['from'], i['to'], i['dis'])\n",
    "    return min_list"
   ]
  },
  {
   "cell_type": "markdown",
   "metadata": {},
   "source": [
    "### The following routine tries to track every objects distance between the current time point over the previsous time point.\n",
    "* It takes each object in each time point and calculate the distance between the objects in the current time point and the objects in the previous time points. It put it in a numpy array track_arr.\n",
    "* It then uses the function min_dis to return a list of objects with minumum distance between two time points and return the min_track_list"
   ]
  },
  {
   "cell_type": "code",
   "execution_count": 9,
   "metadata": {},
   "outputs": [
    {
     "name": "stdout",
     "output_type": "stream",
     "text": [
      "[(b'o000000', b'o001000', 23.67861135586687), (b'o000001', b'o001001', 26.749393064084185)]\n"
     ]
    }
   ],
   "source": [
    "min_track_lst = []\n",
    "for ti in timeseries:\n",
    "    name = \"/data/\" + ti + \"/object/0\"\n",
    "    dset = fi[name]\n",
    "    for i in range(dset.len()):\n",
    "        # track_arr to collect all the pairs between the current time series objects and the previous ones.\n",
    "        track_arr = np.empty([0, 1], dtype=track_descr) \n",
    "        prev_subname = int(ti)-1\n",
    "        if prev_subname >= 0: # previous time index is larger than 0\n",
    "            prev_name = \"/data/\" + str(prev_subname) + \"/object/0\"\n",
    "            prev_dset = fi[prev_name]       \n",
    "            curr_ID = dset[i, 'ID']\n",
    "            prev_ID = \"\"\n",
    "            for j in range(prev_dset.len()):\n",
    "                prev_ID = prev_dset[j, 'ID']\n",
    "                dis = math.sqrt((dset[i, 'x'] - prev_dset[j, 'x']) * (dset[i, 'x'] - prev_dset[j, 'x']) + (dset[i, 'y'] - prev_dset[j, 'y']) * (dset[i, 'y'] - prev_dset[j, 'y']))\n",
    "                track_arr = np.append(track_arr, np.array([(prev_ID, curr_ID, dis)], dtype=track_descr))\n",
    "            min_track_lst.append(min_dis(track_arr))\n",
    "print(min_track_lst)"
   ]
  },
  {
   "cell_type": "markdown",
   "metadata": {},
   "source": [
    "### Closing the BD5 file"
   ]
  },
  {
   "cell_type": "code",
   "execution_count": 10,
   "metadata": {},
   "outputs": [],
   "source": [
    "fi.close()"
   ]
  },
  {
   "cell_type": "markdown",
   "metadata": {},
   "source": [
    "## Appending trackInfo information to existing BD5 file\n",
    "Instead of adding the original sample file, we create a copy to demonstrate how to append trackInfo."
   ]
  },
  {
   "cell_type": "code",
   "execution_count": 11,
   "metadata": {},
   "outputs": [],
   "source": [
    "# using system command to create a new copy to demonstrate how to append to a BD5 file\n",
    "!cp sample_timeseries_notrack_bd5.h5 sample_timeseries_trackInfo_bd5.h5"
   ]
  },
  {
   "cell_type": "code",
   "execution_count": 12,
   "metadata": {},
   "outputs": [],
   "source": [
    "# Alternatively a duplicate of the file can be achieved by uncomment the python codes below.\n",
    "\n",
    "#inputfile = \"sample_timeseries_notrack_bd5.h5\"\n",
    "#fi = h5py.File(inputfile, \"r\")\n",
    "#groups = fi['data']\n",
    "#outputfile =\"sample_timeseries_trackInfo_bd5.h5\"\n",
    "#fo = h5py.File(outputfile, 'w')\n",
    "#fi.copy('data', fo)\n",
    "#fi.close"
   ]
  },
  {
   "cell_type": "markdown",
   "metadata": {},
   "source": [
    "### Procedures to append trackInfo\n",
    "by using the min_track_lst that we created earler."
   ]
  },
  {
   "cell_type": "code",
   "execution_count": 13,
   "metadata": {},
   "outputs": [],
   "source": [
    "# append a new trackInfo dataset to the BD5 file\n",
    "outputfile =\"sample_timeseries_trackInfo_bd5.h5\"\n",
    "fo = h5py.File(outputfile, 'a')\n",
    "\n",
    "# creating trackInfo numpy array\n",
    "trackInfo_descr = np.dtype({'names': ['from','to'], 'formats': ['S32', 'S32']})\n",
    "arr = np.empty([0, 0], dtype=trackInfo_descr)\n",
    "\n",
    "for i in min_track_lst:\n",
    "    arr = np.append(arr, np.array([(i[0], i[1])], dtype=trackInfo_descr))\n",
    "\n",
    "# appending the trackInfo numpy array into the BD5 file\n",
    "fo.create_dataset('/data/trackInfo', data=arr)\n",
    "\n",
    "# closing the BD5 file\n",
    "fo.close()\n"
   ]
  },
  {
   "cell_type": "code",
   "execution_count": null,
   "metadata": {},
   "outputs": [],
   "source": []
  }
 ],
 "metadata": {
  "kernelspec": {
   "display_name": "Python 3",
   "language": "python",
   "name": "python3"
  },
  "language_info": {
   "codemirror_mode": {
    "name": "ipython",
    "version": 3
   },
   "file_extension": ".py",
   "mimetype": "text/x-python",
   "name": "python",
   "nbconvert_exporter": "python",
   "pygments_lexer": "ipython3",
   "version": "3.7.3"
  }
 },
 "nbformat": 4,
 "nbformat_minor": 2
}
