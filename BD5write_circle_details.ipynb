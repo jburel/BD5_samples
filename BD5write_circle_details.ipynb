{
 "cells": [
  {
   "cell_type": "markdown",
   "metadata": {},
   "source": [
    "# BD5write_circle\n",
    "\n",
    "BD5write_circle is a sample code to demonstrate how to read in a TIFF image file and then segmented the image by image processing using Open CV libary routines. The resulting segmented ROI is then saved into a BD5 file. A simple routine to read back the data is also provided at the end."
   ]
  },
  {
   "cell_type": "markdown",
   "metadata": {},
   "source": [
    "This sample code requires the user to install several packages. They are:\n",
    "\n",
    "- Pytables - http://www.pytables.org/index.html\n",
    "- Numpy - https://numpy.org/\n",
    "- OpenCV - https://opencv.org/\n"
   ]
  },
  {
   "cell_type": "code",
   "execution_count": 1,
   "metadata": {},
   "outputs": [],
   "source": [
    "# Please consult the official websites for installation for your particular Operating system and environment.\n",
    "# The following commands installed the necessary packages for juypter notebook in a Ubuntu docker container as a sample for your reference.\n",
    "\n",
    "# Uncomment the # tag if you want the commands below to install those packages.\n",
    "\n",
    "#!pip install tables\n",
    "\n",
    "#!pip install numpy\n",
    "\n",
    "#!pip install opencv-python\n",
    "\n"
   ]
  },
  {
   "cell_type": "code",
   "execution_count": 2,
   "metadata": {},
   "outputs": [],
   "source": [
    "# Original Author: Koji Kyoda\n",
    "# Date: 19 June 2020\n",
    "# sample code for writing BD5 data (circle entity)\n",
    "# Contributor: Ken ho \n",
    "\n",
    "\n",
    "import sys\n",
    "import tables\n",
    "from tables import *\n",
    "import numpy as np\n",
    "import cv2\n",
    "import matplotlib.pyplot as plt\n",
    "import math\n",
    "import warnings\n",
    "\n",
    "# for supression of natural name warning\n",
    "warnings.filterwarnings('ignore', category=tables.NaturalNameWarning)\n",
    "\n",
    "# Main Objects for writing to BD5 file\n",
    "# class definition\n",
    "class ScaleUnit(IsDescription):\n",
    "    dimension = StringCol(8, dflt=\"\", pos=0)\n",
    "    xScale = Float64Col(dflt=0, pos=1)\n",
    "    yScale = Float64Col(dflt=0, pos=2)\n",
    "    sUnit = StringCol(16, dflt=\"\", pos=3)\n",
    "    tScale = Float64Col(dflt=0, pos=4)\n",
    "    tUnit = StringCol(16, dflt=\"\", pos=5)\n",
    "\n",
    "class ObjectDef(IsDescription):\n",
    "    oID = UInt16Col(dflt=0, pos=0)\n",
    "    name = StringCol(128, dflt=\"\", pos=1)\n",
    "\n",
    "class Data(IsDescription):\n",
    "    ID = StringCol(32, dflt=\"\", pos=0)\n",
    "    t = Int32Col(dflt=0, pos=1)\n",
    "    entity = StringCol(8, dflt=\"\", pos=2)\n",
    "    x = Float32Col(dflt=0, pos=3)\n",
    "    y = Float32Col(dflt=0, pos=4)\n",
    "    radius = Float32Col(dflt=0, pos=5)\n"
   ]
  },
  {
   "cell_type": "markdown",
   "metadata": {},
   "source": [
    "## Defining the input TIFF image file and the output BD5 file"
   ]
  },
  {
   "cell_type": "code",
   "execution_count": 4,
   "metadata": {},
   "outputs": [],
   "source": [
    "# input and output\n",
    "img_path = \"./bw_sample.tif\"\n",
    "hdf5_out = \"./sample_circle_bd5.h5\""
   ]
  },
  {
   "cell_type": "markdown",
   "metadata": {},
   "source": [
    "## Preprocess the image\n",
    "* Read in the image as img\n",
    "* Convert the image into a grayscale image\n",
    "* Thresholding the image"
   ]
  },
  {
   "cell_type": "code",
   "execution_count": 5,
   "metadata": {},
   "outputs": [
    {
     "data": {
      "text/plain": [
       "<matplotlib.image.AxesImage at 0x7f4d9f2c6d30>"
      ]
     },
     "execution_count": 5,
     "metadata": {},
     "output_type": "execute_result"
    },
    {
     "data": {
      "image/png": "[encoded data removed]",
      "text/plain": [
       "<Figure size 432x288 with 1 Axes>"
      ]
     },
     "metadata": {
      "needs_background": "light"
     },
     "output_type": "display_data"
    }
   ],
   "source": [
    "# preprocessing\n",
    "img = cv2.imread(img_path)\n",
    "imgray = cv2.cvtColor(img,cv2.COLOR_BGR2GRAY)\n",
    "plt.imshow(imgray, 'gray')"
   ]
  },
  {
   "cell_type": "code",
   "execution_count": 6,
   "metadata": {},
   "outputs": [
    {
     "data": {
      "text/plain": [
       "array([[0, 0, 0, ..., 0, 0, 0],\n",
       "       [0, 0, 0, ..., 0, 0, 0],\n",
       "       [0, 0, 0, ..., 0, 0, 0],\n",
       "       ...,\n",
       "       [0, 0, 0, ..., 0, 0, 0],\n",
       "       [0, 0, 0, ..., 0, 0, 0],\n",
       "       [0, 0, 0, ..., 0, 0, 0]], dtype=uint8)"
      ]
     },
     "execution_count": 6,
     "metadata": {},
     "output_type": "execute_result"
    }
   ],
   "source": [
    "ret,thresh = cv2.threshold(imgray,127,255,0)\n",
    "thresh"
   ]
  },
  {
   "cell_type": "markdown",
   "metadata": {},
   "source": [
    "## Finding the contours of ROIs"
   ]
  },
  {
   "cell_type": "code",
   "execution_count": 7,
   "metadata": {},
   "outputs": [],
   "source": [
    "# find contours of ROIs using the OpenCV findContours function\n",
    "# Ref: https://docs.opencv.org/3.4/d4/d73/tutorial_py_contours_begin.html\n",
    "# Each individual contour is a Numpy array of (x,y) coordinates of boundary points of the object.\n",
    "contours, hierarchy = cv2.findContours(thresh, cv2.RETR_EXTERNAL, cv2.CHAIN_APPROX_SIMPLE)\n",
    "\n",
    "# To print out the contours, uncoment the line below.\n",
    "#contours"
   ]
  },
  {
   "cell_type": "code",
   "execution_count": 8,
   "metadata": {},
   "outputs": [
    {
     "data": {
      "text/plain": [
       "(256, 256, 3)"
      ]
     },
     "execution_count": 8,
     "metadata": {},
     "output_type": "execute_result"
    }
   ],
   "source": [
    "# finding the size of the image\n",
    "img.shape"
   ]
  },
  {
   "cell_type": "markdown",
   "metadata": {},
   "source": [
    "## Diplaying the contours of the ROI"
   ]
  },
  {
   "cell_type": "code",
   "execution_count": 9,
   "metadata": {},
   "outputs": [
    {
     "data": {
      "text/plain": [
       "<matplotlib.image.AxesImage at 0x7f4d9ee1ada0>"
      ]
     },
     "execution_count": 9,
     "metadata": {},
     "output_type": "execute_result"
    },
    {
     "data": {
      "image/png": "[encoded data removed]",
      "text/plain": [
       "<Figure size 432x288 with 1 Axes>"
      ]
     },
     "metadata": {
      "needs_background": "light"
     },
     "output_type": "display_data"
    }
   ],
   "source": [
    "# creating a background image with the same dimension\n",
    "bkimage = np.zeros((256, 256, 3), np.uint8)\n",
    "\n",
    "# plot the contours over the background image\n",
    "cv2.drawContours(bkimage, contours, -1, (0, 255, 0), 1) \n",
    "plt.imshow(bkimage)"
   ]
  },
  {
   "cell_type": "markdown",
   "metadata": {},
   "source": [
    "## Overlaying the contour over the original image"
   ]
  },
  {
   "cell_type": "code",
   "execution_count": 10,
   "metadata": {},
   "outputs": [
    {
     "data": {
      "text/plain": [
       "<matplotlib.image.AxesImage at 0x7f4d9ed7f7f0>"
      ]
     },
     "execution_count": 10,
     "metadata": {},
     "output_type": "execute_result"
    },
    {
     "data": {
      "image/png": "[encoded data removed]",
      "text/plain": [
       "<Figure size 432x288 with 1 Axes>"
      ]
     },
     "metadata": {
      "needs_background": "light"
     },
     "output_type": "display_data"
    }
   ],
   "source": [
    "cv2.drawContours(imgray, contours, -1, (0, 255, 0), 1) \n",
    "plt.imshow(imgray)"
   ]
  },
  {
   "cell_type": "code",
   "execution_count": 2,
   "metadata": {},
   "outputs": [],
   "source": [
    "# Uncomment the line below if you want to see the numerial values of the contours.\n",
    "#contours"
   ]
  },
  {
   "cell_type": "markdown",
   "metadata": {},
   "source": [
    "## Main routines to output the data into a BD5 format file"
   ]
  },
  {
   "cell_type": "code",
   "execution_count": 13,
   "metadata": {},
   "outputs": [],
   "source": [
    "# output to bd5 file\n",
    "h5file = open_file(hdf5_out, mode=\"w\", title=\"bd5 file\")\n",
    "\n",
    "# Create a HDF5 datagroup called data using pytable function h5file.create_group\n",
    "group = h5file.create_group('/', 'data', 'data group')\n",
    "\n",
    "# for scaleUnit - create a HDF5 dataset scaleUnit under HDF5 datagroup /data using pytable funcion h5file.create_table\n",
    "# Note: User needs to supply all the scale information, dimension, x, y, t, sUnit and tUnit \n",
    "scaleunit = h5file.create_table('/data', 'scaleUnit', ScaleUnit, \"definition of scale and unit\")\n",
    "su = scaleunit.row\n",
    "su['dimension'] = \"2D\"\n",
    "su['xScale'] = 0.1\n",
    "su['yScale'] = 0.1\n",
    "su['sUnit'] = \"micrometer\"\n",
    "su['tScale'] = 1\n",
    "su['tUnit'] = \"minute\"\n",
    "su.append()\n",
    "scaleunit.flush()\n",
    "\n",
    "# for objectDef - creat a HDF5 dataset objectDef under HDF5 datagroup /data using pytable h5file.create_table\n",
    "# Note: User needs to supply object ID oIDs and names of the objects\n",
    "objectdef = h5file.create_table('/data', 'objectDef', ObjectDef, \"object definition\")\n",
    "od = objectdef.row\n",
    "od['oID'] = 0\n",
    "od['name'] = \"nucleus\"\n",
    "od.append()\n",
    "objectdef.flush()\n",
    "\n",
    "# time series index - create a HDF5 datagroup under for each time frame or time point using pytable h5file.create_group\n",
    "# The group name starts from 0 and increments continuously for each time frame or time point by 1\n",
    "series = h5file.create_group('/data', '0', 'time index 0')\n",
    "\n",
    "# object - create a HDF datagroup under time series index as object using pytable h5file.create_group\n",
    "object0 = h5file.create_group('/data/0', 'object', 'object0')\n",
    "\n",
    "\n",
    "# storing xy coordinates to HDF5 dataset named after oID defined in objectDef under datagroup object using pytable h5file.create_table\n",
    "table = h5file.create_table('/data/0/object', '0', Data, \"dataset\")\n",
    "\n",
    "xyz = table.row\n",
    "for i, cnt in enumerates(contours):\n",
    "    # the following lines calculate the centroid of the contour area\n",
    "    # with that we also calculate the radius of a circle of the same area size.\n",
    "    M = cv2.moments(cnt)\n",
    "    area = cv2.contourArea(cnt)\n",
    "    # note that radius store the actual size and does not multiply by any scale\n",
    "    # In this case, the scale is 1 pixel = 0.1 micrometer, \n",
    "    # so radius below will be scaled by muliply with 0.1\n",
    "    radius = math.sqrt(area/math.pi) * 0.1\n",
    "    cx = M['m10'] / M['m00']\n",
    "    cy = M['m01'] / M['m00']\n",
    "    # xy coordinates and the circle radius are written to the HDF5 dataset\n",
    "    xyz['ID'] = \"o\" + '%06d' % i\n",
    "    xyz['t'] = 0\n",
    "    xyz['entity'] = 'circle'\n",
    "    xyz['x'] = cx\n",
    "    xyz['y'] = cy\n",
    "    xyz['radius'] = radius\n",
    "    xyz.append()\n",
    "table.flush()\n",
    "\n",
    "# closing the BD5 file\n",
    "h5file.close()\n",
    "\n"
   ]
  },
  {
   "cell_type": "markdown",
   "metadata": {},
   "source": [
    "## Reading back the BD5 file"
   ]
  },
  {
   "cell_type": "code",
   "execution_count": 14,
   "metadata": {},
   "outputs": [
    {
     "data": {
      "text/plain": [
       "File(filename=./sample_circle_bd5.h5, title='bd5 file', mode='r', root_uep='/', filters=Filters(complevel=0, shuffle=False, bitshuffle=False, fletcher32=False, least_significant_digit=None))\n",
       "/ (RootGroup) 'bd5 file'\n",
       "/data (Group) 'data group'\n",
       "/data/objectDef (Table(1,)) 'object definition'\n",
       "  description := {\n",
       "  \"oID\": UInt16Col(shape=(), dflt=0, pos=0),\n",
       "  \"name\": StringCol(itemsize=128, shape=(), dflt=b'', pos=1)}\n",
       "  byteorder := 'little'\n",
       "  chunkshape := (504,)\n",
       "/data/scaleUnit (Table(1,)) 'definition of scale and unit'\n",
       "  description := {\n",
       "  \"dimension\": StringCol(itemsize=8, shape=(), dflt=b'', pos=0),\n",
       "  \"xScale\": Float64Col(shape=(), dflt=0.0, pos=1),\n",
       "  \"yScale\": Float64Col(shape=(), dflt=0.0, pos=2),\n",
       "  \"sUnit\": StringCol(itemsize=16, shape=(), dflt=b'', pos=3),\n",
       "  \"tScale\": Float64Col(shape=(), dflt=0.0, pos=4),\n",
       "  \"tUnit\": StringCol(itemsize=16, shape=(), dflt=b'', pos=5)}\n",
       "  byteorder := 'little'\n",
       "  chunkshape := (1024,)\n",
       "/data/0 (Group) 'time index 0'\n",
       "/data/0/object (Group) 'object0'\n",
       "/data/0/object/0 (Table(1,)) 'dataset'\n",
       "  description := {\n",
       "  \"ID\": StringCol(itemsize=32, shape=(), dflt=b'', pos=0),\n",
       "  \"t\": Int32Col(shape=(), dflt=0, pos=1),\n",
       "  \"entity\": StringCol(itemsize=8, shape=(), dflt=b'', pos=2),\n",
       "  \"x\": Float32Col(shape=(), dflt=0.0, pos=3),\n",
       "  \"y\": Float32Col(shape=(), dflt=0.0, pos=4),\n",
       "  \"radius\": Float32Col(shape=(), dflt=0.0, pos=5)}\n",
       "  byteorder := 'little'\n",
       "  chunkshape := (1170,)"
      ]
     },
     "execution_count": 14,
     "metadata": {},
     "output_type": "execute_result"
    }
   ],
   "source": [
    "# how to read back the dataset\n",
    "# In the code below we continue to use the Pytable package to access BD5 file\n",
    "\n",
    "bd5file = tables.open_file(hdf5_out)\n",
    "bd5file"
   ]
  },
  {
   "cell_type": "code",
   "execution_count": 15,
   "metadata": {},
   "outputs": [
    {
     "data": {
      "text/plain": [
       "/data (Group) 'data group'\n",
       "  children := ['0' (Group), 'objectDef' (Table), 'scaleUnit' (Table)]"
      ]
     },
     "execution_count": 15,
     "metadata": {},
     "output_type": "execute_result"
    }
   ],
   "source": [
    "bd5file.root.data"
   ]
  },
  {
   "cell_type": "markdown",
   "metadata": {},
   "source": [
    "### Reading the objectDef "
   ]
  },
  {
   "cell_type": "code",
   "execution_count": 16,
   "metadata": {},
   "outputs": [],
   "source": [
    "objectdef = bd5file.root.data.objectDef.read()"
   ]
  },
  {
   "cell_type": "code",
   "execution_count": 17,
   "metadata": {},
   "outputs": [
    {
     "data": {
      "text/plain": [
       "array([(0, b'nucleus')], dtype=[('oID', '<u2'), ('name', 'S128')])"
      ]
     },
     "execution_count": 17,
     "metadata": {},
     "output_type": "execute_result"
    }
   ],
   "source": [
    "objectdef"
   ]
  },
  {
   "cell_type": "code",
   "execution_count": 18,
   "metadata": {},
   "outputs": [
    {
     "data": {
      "text/plain": [
       "b'nucleus'"
      ]
     },
     "execution_count": 18,
     "metadata": {},
     "output_type": "execute_result"
    }
   ],
   "source": [
    "objectdef['name'][0]"
   ]
  },
  {
   "cell_type": "code",
   "execution_count": 19,
   "metadata": {},
   "outputs": [
    {
     "data": {
      "text/plain": [
       "0"
      ]
     },
     "execution_count": 19,
     "metadata": {},
     "output_type": "execute_result"
    }
   ],
   "source": [
    "objectdef['oID'][0]"
   ]
  },
  {
   "cell_type": "markdown",
   "metadata": {},
   "source": [
    "### Reading scaleUnit"
   ]
  },
  {
   "cell_type": "code",
   "execution_count": 20,
   "metadata": {},
   "outputs": [],
   "source": [
    "scaleunit = bd5file.root.data.scaleUnit.read()"
   ]
  },
  {
   "cell_type": "code",
   "execution_count": 21,
   "metadata": {},
   "outputs": [
    {
     "data": {
      "text/plain": [
       "(b'2D', 0.1, 0.1, b'micrometer', 1., b'minute')"
      ]
     },
     "execution_count": 21,
     "metadata": {},
     "output_type": "execute_result"
    }
   ],
   "source": [
    "scaleunit[0]"
   ]
  },
  {
   "cell_type": "code",
   "execution_count": 22,
   "metadata": {},
   "outputs": [
    {
     "data": {
      "text/plain": [
       "b'2D'"
      ]
     },
     "execution_count": 22,
     "metadata": {},
     "output_type": "execute_result"
    }
   ],
   "source": [
    "scaleunit['dimension'][0]"
   ]
  },
  {
   "cell_type": "markdown",
   "metadata": {},
   "source": [
    "### Reading object with oID 0 from time series index 0 "
   ]
  },
  {
   "cell_type": "code",
   "execution_count": 23,
   "metadata": {},
   "outputs": [],
   "source": [
    "object0 = bd5file.get_node(\"/data/0/object\", \"0\")"
   ]
  },
  {
   "cell_type": "code",
   "execution_count": 24,
   "metadata": {},
   "outputs": [
    {
     "data": {
      "text/plain": [
       "/data/0/object/0 (Table(1,)) 'dataset'\n",
       "  description := {\n",
       "  \"ID\": StringCol(itemsize=32, shape=(), dflt=b'', pos=0),\n",
       "  \"t\": Int32Col(shape=(), dflt=0, pos=1),\n",
       "  \"entity\": StringCol(itemsize=8, shape=(), dflt=b'', pos=2),\n",
       "  \"x\": Float32Col(shape=(), dflt=0.0, pos=3),\n",
       "  \"y\": Float32Col(shape=(), dflt=0.0, pos=4),\n",
       "  \"radius\": Float32Col(shape=(), dflt=0.0, pos=5)}\n",
       "  byteorder := 'little'\n",
       "  chunkshape := (1170,)"
      ]
     },
     "execution_count": 24,
     "metadata": {},
     "output_type": "execute_result"
    }
   ],
   "source": [
    "object0"
   ]
  },
  {
   "cell_type": "code",
   "execution_count": 25,
   "metadata": {},
   "outputs": [
    {
     "data": {
      "text/plain": [
       "(b'o000000', 0, b'circle', 97.73062, 120.28173, 2.1934571)"
      ]
     },
     "execution_count": 25,
     "metadata": {},
     "output_type": "execute_result"
    }
   ],
   "source": [
    "object0[0]"
   ]
  },
  {
   "cell_type": "code",
   "execution_count": 26,
   "metadata": {},
   "outputs": [
    {
     "data": {
      "text/plain": [
       "b'o000000'"
      ]
     },
     "execution_count": 26,
     "metadata": {},
     "output_type": "execute_result"
    }
   ],
   "source": [
    "object0[0]['ID']"
   ]
  },
  {
   "cell_type": "code",
   "execution_count": 27,
   "metadata": {},
   "outputs": [
    {
     "data": {
      "text/plain": [
       "b'circle'"
      ]
     },
     "execution_count": 27,
     "metadata": {},
     "output_type": "execute_result"
    }
   ],
   "source": [
    "object0[0]['entity']"
   ]
  },
  {
   "cell_type": "markdown",
   "metadata": {},
   "source": [
    "## Printing out the x, y centre of a circle in pixel value. Radius is in micrometers."
   ]
  },
  {
   "cell_type": "code",
   "execution_count": 28,
   "metadata": {},
   "outputs": [
    {
     "name": "stdout",
     "output_type": "stream",
     "text": [
      "x:  97.73062 y:  120.28173 radius:  2.1934571\n"
     ]
    }
   ],
   "source": [
    "print(\"x: \", object0[0]['x'], \"y: \", object0[0]['y'], \"radius: \",  object0[0]['radius'])"
   ]
  },
  {
   "cell_type": "markdown",
   "metadata": {},
   "source": [
    "## Displaying the circle in a background image - in pixel unit."
   ]
  },
  {
   "cell_type": "code",
   "execution_count": 29,
   "metadata": {},
   "outputs": [
    {
     "data": {
      "text/plain": [
       "<matplotlib.image.AxesImage at 0x7f4d9ec95cc0>"
      ]
     },
     "execution_count": 29,
     "metadata": {},
     "output_type": "execute_result"
    },
    {
     "data": {
      "image/png": "[encoded data removed]",
      "text/plain": [
       "<Figure size 432x288 with 1 Axes>"
      ]
     },
     "metadata": {
      "needs_background": "light"
     },
     "output_type": "display_data"
    }
   ],
   "source": [
    "height, width = 256, 256\n",
    "bkimg = np.zeros((height, width, 3), np.uint8)\n",
    "colour = (0,255,0)\n",
    "cv2.circle(bkimg, (object0[0]['x'], object0[0]['y']), int(object0[0]['radius']/0.1), colour, thickness=1, lineType=8, shift=0)\n",
    "plt.imshow(bkimg)"
   ]
  },
  {
   "cell_type": "markdown",
   "metadata": {},
   "source": [
    "## Displaying the circle overlaying on top of the original image"
   ]
  },
  {
   "cell_type": "code",
   "execution_count": 30,
   "metadata": {},
   "outputs": [
    {
     "data": {
      "text/plain": [
       "<matplotlib.image.AxesImage at 0x7f4d9ebf7208>"
      ]
     },
     "execution_count": 30,
     "metadata": {},
     "output_type": "execute_result"
    },
    {
     "data": {
      "image/png": "[encoded data removed]",
      "text/plain": [
       "<Figure size 432x288 with 1 Axes>"
      ]
     },
     "metadata": {
      "needs_background": "light"
     },
     "output_type": "display_data"
    }
   ],
   "source": [
    "img = cv2.imread(img_path)\n",
    "imgray = cv2.cvtColor(img,cv2.COLOR_BGR2GRAY)\n",
    "cv2.circle(imgray, (object0[0]['x'], object0[0]['y']), int(object0[0]['radius']/0.1), colour, thickness=1, lineType=8, shift=0)\n",
    "plt.imshow(imgray)"
   ]
  },
  {
   "cell_type": "markdown",
   "metadata": {},
   "source": [
    "## Finding the circle of the ROI in actual micrometers"
   ]
  },
  {
   "cell_type": "code",
   "execution_count": 31,
   "metadata": {},
   "outputs": [
    {
     "data": {
      "text/plain": [
       "(9.773062133789063, 12.028173065185548)"
      ]
     },
     "execution_count": 31,
     "metadata": {},
     "output_type": "execute_result"
    }
   ],
   "source": [
    "centre = (object0[0]['x'] * scaleunit[0]['xScale'], object0[0]['y'] * scaleunit[0]['yScale'])\n",
    "centre"
   ]
  },
  {
   "cell_type": "code",
   "execution_count": 32,
   "metadata": {},
   "outputs": [
    {
     "data": {
      "text/plain": [
       "2"
      ]
     },
     "execution_count": 32,
     "metadata": {},
     "output_type": "execute_result"
    }
   ],
   "source": [
    "radius = int(object0[0]['radius'])\n",
    "radius"
   ]
  },
  {
   "cell_type": "markdown",
   "metadata": {},
   "source": [
    "## Displaying the circle in micrometers"
   ]
  },
  {
   "cell_type": "code",
   "execution_count": 33,
   "metadata": {},
   "outputs": [
    {
     "data": {
      "image/png": "[encoded data removed]",
      "text/plain": [
       "<Figure size 432x288 with 1 Axes>"
      ]
     },
     "metadata": {
      "needs_background": "light"
     },
     "output_type": "display_data"
    }
   ],
   "source": [
    "circle=plt.Circle(centre, radius, fill=False)\n",
    "fig = plt.figure()\n",
    "ax = fig.add_subplot(111,aspect='equal')  # subplot of 1x1 grid plot no. 1\n",
    "# change default range so that new circles will display in micrometers\n",
    "h, w, c = img.shape # size of the image in height, width, channel\n",
    "xscale = h * scaleunit[0]['xScale']\n",
    "yscale = w * scaleunit[0]['yScale']\n",
    "ax.set_xlim((0, xscale))\n",
    "ax.set_ylim((0, yscale))\n",
    "plt.xlabel('micrometers')\n",
    "plt.ylabel('micrometers')\n",
    "\n",
    "#ax= plt.subplot(aspect='equal')\n",
    "ax.add_artist(circle)\n",
    "plt.show()\n"
   ]
  },
  {
   "cell_type": "markdown",
   "metadata": {},
   "source": [
    "### Closing the BD5 file"
   ]
  },
  {
   "cell_type": "code",
   "execution_count": 34,
   "metadata": {},
   "outputs": [],
   "source": [
    "bd5file.close()"
   ]
  },
  {
   "cell_type": "code",
   "execution_count": null,
   "metadata": {},
   "outputs": [],
   "source": []
  }
 ],
 "metadata": {
  "kernelspec": {
   "display_name": "Python 3",
   "language": "python",
   "name": "python3"
  },
  "language_info": {
   "codemirror_mode": {
    "name": "ipython",
    "version": 3
   },
   "file_extension": ".py",
   "mimetype": "text/x-python",
   "name": "python",
   "nbconvert_exporter": "python",
   "pygments_lexer": "ipython3",
   "version": "3.6.9"
  }
 },
 "nbformat": 4,
 "nbformat_minor": 4
}
