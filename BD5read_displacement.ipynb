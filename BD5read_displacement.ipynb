{
 "cells": [
  {
   "cell_type": "code",
   "execution_count": null,
   "metadata": {},
   "outputs": [],
   "source": [
    "## BD5read_displacement - reading in an existing BD5 file and analy\n",
    "\n",
    "Reading in an existing BD5 file and analyse the data, plotting the prolification curve.\n",
    "BD5read_count is a sample code to demonstrate how to read in an existing BD5 file and do some simple analysis by counting the number of nucleus vs time point and ploting out a prolification curve of C.elegans.\n",
    "\n",
    "We choose an existing BD5 file from the SSBD:database.\n",
    "\n",
    "Ref: Bao et al. (2006) Proc Natl Acad Sci USA 103, 2707-2712.\n",
    "\n",
    "SSBD:database ref: http://ssbd.qbic.riken.jp/search3/800faa21-c28c-4b72-bd12-d41f2eed02e8/"
   ]
  },
  {
   "cell_type": "code",
   "execution_count": 1,
   "metadata": {},
   "outputs": [
    {
     "name": "stdout",
     "output_type": "stream",
     "text": [
      "displacement of ABal nucleus: 21.61651943225066 micrometer\n"
     ]
    }
   ],
   "source": [
    "# Author: Koji Kyoda\n",
    "# sample code for reading an existing BD5 file perform some analysis. \n",
    "\n",
    "import h5py\n",
    "import math\n",
    "\n",
    "file = \"081505_L1_bd5.h5\"\n",
    "f = h5py.File(file, \"r\")\n",
    "groups= f['data']\n",
    "\n",
    "sset = f[\"/data/scaleUnit\"]\n",
    "xscale = sset[0, 'xScale']\n",
    "yscale = sset[0, 'yScale']\n",
    "zscale = sset[0, 'zScale']\n",
    "sunit = sset[0, 'sUnit']\n",
    "\n",
    "count = 0\n",
    "mov = tmpx = tmpy = tmpz = 0.0\n",
    "while (str(count) in groups.keys()):\n",
    "    name = \"/data/\" + str(count) + \"/object/0\"\n",
    "    dset = f[name]\n",
    "    for i in range(dset.len()):\n",
    "        if (dset[i, 'label'] == b'ABal'):\n",
    "            if (tmpx == 0.0 and tmpy == 0.0 and tmpz == 0.0):\n",
    "                tmpx = dset[i, 'x'] * xscale\n",
    "                tmpy = dset[i, 'y'] * yscale\n",
    "                tmpz = dset[i, 'z'] * zscale\n",
    "            else:\n",
    "                mov = mov + math.sqrt((dset[i, 'x'] * xscale - tmpx) * (dset[i, 'x'] * xscale - tmpx) + (dset[i, 'y'] * yscale - tmpy) * (dset[i, 'y'] * yscale - tmpy) + (dset[i, 'z'] * zscale - tmpz) * (dset[i, 'z'] * zscale - tmpz))\n",
    "                tmpx = dset[i, 'x'] * xscale\n",
    "                tmpy = dset[i, 'y'] * yscale\n",
    "                tmpz = dset[i, 'z'] * zscale\n",
    "    count = count + 1\n",
    "        \n",
    "print (\"displacement of ABal nucleus: \" + format(mov) + \" \" + sunit.decode('utf-8'))"
   ]
  },
  {
   "cell_type": "code",
   "execution_count": null,
   "metadata": {},
   "outputs": [],
   "source": []
  }
 ],
 "metadata": {
  "kernelspec": {
   "display_name": "Python 3",
   "language": "python",
   "name": "python3"
  },
  "language_info": {
   "codemirror_mode": {
    "name": "ipython",
    "version": 3
   },
   "file_extension": ".py",
   "mimetype": "text/x-python",
   "name": "python",
   "nbconvert_exporter": "python",
   "pygments_lexer": "ipython3",
   "version": "3.6.9"
  }
 },
 "nbformat": 4,
 "nbformat_minor": 2
}
