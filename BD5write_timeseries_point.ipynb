{
 "cells": [
  {
   "cell_type": "markdown",
   "metadata": {},
   "source": [
    "### BD5write_timeseries_point\n",
    "\n",
    "BD5write_timeseries_point is a sample code to demonstrate how to image process a series of images and put them into a BD5 file. \n",
    "\n",
    "* The sample code reads in a couple of images. It then segmented the objects within the images, find their contours and calculate their centroids. \n",
    "* It then saves the centroids as points in the BD5 file.\n",
    "* It tries to track the objects between time points by finding the closest objects between two time points.\n",
    "* It then records the object pairs into trackInfo dataset in the BD5 file before closing it."
   ]
  },
  {
   "cell_type": "markdown",
   "metadata": {},
   "source": [
    "This sample code requires the user to install several packages. They are:\n",
    "\n",
    "- Pytables - http://www.pytables.org/index.html\n",
    "- Numpy - https://numpy.org/\n",
    "- OpenCV - https://opencv.org/\n",
    "- SciPy - https://www.scipy.org/"
   ]
  },
  {
   "cell_type": "code",
   "execution_count": 1,
   "metadata": {},
   "outputs": [],
   "source": [
    "# Please consult the official websites for installation for your particular Operating system and environment.\n",
    "# The following commands installed the necessary packages for juypter notebook in a Ubuntu docker container as a sample for your reference.\n",
    "\n",
    "# Uncomment the # tag if you want the commands below to install those packages.\n",
    "\n",
    "#!pip install tables\n",
    "\n",
    "#!pip install numpy\n",
    "\n",
    "#!pip install opencv-python\n",
    "\n",
    "#!pip install scipy"
   ]
  },
  {
   "cell_type": "code",
   "execution_count": 2,
   "metadata": {},
   "outputs": [],
   "source": [
    "# Original Author: Koji Kyoda\n",
    "# Contributor: Ken ho \n",
    "# Date: 19 June 2020\n",
    "\n",
    "import sys\n",
    "import tables\n",
    "from tables import *\n",
    "import numpy as np\n",
    "import cv2\n",
    "import math\n",
    "import warnings\n",
    "import matplotlib.pyplot as plt\n",
    "\n",
    "\n",
    "# for supression of natural name warning\n",
    "warnings.filterwarnings('ignore', category=tables.NaturalNameWarning)\n"
   ]
  },
  {
   "cell_type": "code",
   "execution_count": 3,
   "metadata": {},
   "outputs": [],
   "source": [
    "# This sample code also uses scipy distance to calculate the distance of two points.\n",
    "\n",
    "from scipy.spatial import distance"
   ]
  },
  {
   "cell_type": "code",
   "execution_count": 4,
   "metadata": {},
   "outputs": [],
   "source": [
    "# class definition\n",
    "class ScaleUnit(IsDescription):\n",
    "    dimension = StringCol(8, dflt=\"\", pos=0)\n",
    "    xScale = Float64Col(dflt=0, pos=1)\n",
    "    yScale = Float64Col(dflt=0, pos=2)\n",
    "    sUnit = StringCol(16, dflt=\"\", pos=3)\n",
    "    tScale = Float64Col(dflt=0, pos=4)\n",
    "    tUnit = StringCol(16, dflt=\"\", pos=5)\n",
    "\n",
    "class ObjectDef(IsDescription):\n",
    "    oID = UInt16Col(dflt=0, pos=0)\n",
    "    name = StringCol(128, dflt=\"\", pos=1)\n",
    "\n",
    "class Data(IsDescription):\n",
    "    ID = StringCol(32, dflt=\"\", pos=0)\n",
    "    t = Int32Col(dflt=0, pos=1)\n",
    "    entity = StringCol(8, dflt=\"\", pos=2)\n",
    "    x = Float32Col(dflt=0, pos=3)\n",
    "    y = Float32Col(dflt=0, pos=4)\n",
    "#    radius = Float32Col(dflt=0, pos=5)\n"
   ]
  },
  {
   "cell_type": "markdown",
   "metadata": {},
   "source": [
    "## Preprocess the images\n",
    "* Read in the images as img1 and img2\n",
    "* Convert the image into a grayscale image\n",
    "* Thresholding the image\n",
    "* Finding the contours of the ROIs"
   ]
  },
  {
   "cell_type": "code",
   "execution_count": 5,
   "metadata": {},
   "outputs": [
    {
     "data": {
      "text/plain": [
       "<matplotlib.image.AxesImage at 0x7f7ed5fb8588>"
      ]
     },
     "execution_count": 5,
     "metadata": {},
     "output_type": "execute_result"
    },
    {
     "data": {
      "image/png": "[encoded data removed]",
      "text/plain": [
       "<Figure size 432x288 with 1 Axes>"
      ]
     },
     "metadata": {
      "needs_background": "light"
     },
     "output_type": "display_data"
    }
   ],
   "source": [
    "# input image_1\n",
    "img_path1 = \"./bw_sample02.tif\"\n",
    "img1 = cv2.imread(img_path1)\n",
    "imgray1 = cv2.cvtColor(img1,cv2.COLOR_BGR2GRAY)\n",
    "plt.imshow(imgray1, 'gray')"
   ]
  },
  {
   "cell_type": "code",
   "execution_count": 6,
   "metadata": {},
   "outputs": [],
   "source": [
    "# preprocessing\n",
    "ret,thresh1 = cv2.threshold(imgray1,127,255,0)"
   ]
  },
  {
   "cell_type": "code",
   "execution_count": 7,
   "metadata": {},
   "outputs": [],
   "source": [
    "# find contours of ROIs\n",
    "contours1, hierarchy1 = cv2.findContours(thresh1, cv2.RETR_EXTERNAL, cv2.CHAIN_APPROX_SIMPLE)"
   ]
  },
  {
   "cell_type": "code",
   "execution_count": 8,
   "metadata": {},
   "outputs": [
    {
     "data": {
      "text/plain": [
       "(256, 256, 3)"
      ]
     },
     "execution_count": 8,
     "metadata": {},
     "output_type": "execute_result"
    }
   ],
   "source": [
    "# finding the size of the image\n",
    "height, width, channel = img1.shape\n",
    "img1.shape"
   ]
  },
  {
   "cell_type": "code",
   "execution_count": 9,
   "metadata": {},
   "outputs": [
    {
     "data": {
      "text/plain": [
       "<matplotlib.image.AxesImage at 0x7f7ed5a8d550>"
      ]
     },
     "execution_count": 9,
     "metadata": {},
     "output_type": "execute_result"
    },
    {
     "data": {
      "image/png": "[encoded data removed]",
      "text/plain": [
       "<Figure size 432x288 with 1 Axes>"
      ]
     },
     "metadata": {
      "needs_background": "light"
     },
     "output_type": "display_data"
    }
   ],
   "source": [
    "# creating a background image with the same dimension\n",
    "bkimage1 = np.zeros((height, width, channel), np.uint8)\n",
    "\n",
    "# plot the contours over the background image\n",
    "cv2.drawContours(bkimage1, contours1, -1, (0, 255, 0), 1) \n",
    "plt.imshow(bkimage1)"
   ]
  },
  {
   "cell_type": "code",
   "execution_count": 10,
   "metadata": {},
   "outputs": [
    {
     "data": {
      "text/plain": [
       "<matplotlib.image.AxesImage at 0x7f7ed5a78198>"
      ]
     },
     "execution_count": 10,
     "metadata": {},
     "output_type": "execute_result"
    },
    {
     "data": {
      "image/png": "[encoded data removed]",
      "text/plain": [
       "<Figure size 432x288 with 1 Axes>"
      ]
     },
     "metadata": {
      "needs_background": "light"
     },
     "output_type": "display_data"
    }
   ],
   "source": [
    "# input image_2\n",
    "img_path2 = \"./bw_sample03.tif\"\n",
    "img2 = cv2.imread(img_path2)\n",
    "imgray2 = cv2.cvtColor(img2,cv2.COLOR_BGR2GRAY)\n",
    "plt.imshow(imgray2, 'gray')"
   ]
  },
  {
   "cell_type": "code",
   "execution_count": 11,
   "metadata": {},
   "outputs": [],
   "source": [
    "# preprocessing\n",
    "ret,thresh2 = cv2.threshold(imgray2,127,255,0)"
   ]
  },
  {
   "cell_type": "code",
   "execution_count": 12,
   "metadata": {},
   "outputs": [],
   "source": [
    "# find contours of ROIs\n",
    "contours2, hierarchy2 = cv2.findContours(thresh2, cv2.RETR_EXTERNAL, cv2.CHAIN_APPROX_SIMPLE)"
   ]
  },
  {
   "cell_type": "code",
   "execution_count": 13,
   "metadata": {},
   "outputs": [
    {
     "data": {
      "text/plain": [
       "<matplotlib.image.AxesImage at 0x7f7ed59d3ac8>"
      ]
     },
     "execution_count": 13,
     "metadata": {},
     "output_type": "execute_result"
    },
    {
     "data": {
      "image/png": "[encoded data removed]",
      "text/plain": [
       "<Figure size 432x288 with 1 Axes>"
      ]
     },
     "metadata": {
      "needs_background": "light"
     },
     "output_type": "display_data"
    }
   ],
   "source": [
    "# creating a background image with the same dimension\n",
    "bkimage2 = np.zeros((height, width, channel), np.uint8)\n",
    "\n",
    "# plot the contours over the background image\n",
    "cv2.drawContours(bkimage2, contours2, -1, (0, 255, 0), 1) \n",
    "plt.imshow(bkimage2)"
   ]
  },
  {
   "cell_type": "markdown",
   "metadata": {},
   "source": [
    "### Main routines to output the data into a BD5 format file"
   ]
  },
  {
   "cell_type": "code",
   "execution_count": 14,
   "metadata": {},
   "outputs": [],
   "source": [
    "# output\n",
    "\n",
    "hdf5_out = \"./sample_timeseries_point_bd5.h5\"\n"
   ]
  },
  {
   "cell_type": "code",
   "execution_count": 15,
   "metadata": {},
   "outputs": [],
   "source": [
    "# output to bd5 file\n",
    "bd5file = open_file(hdf5_out, mode=\"w\", title=\"bd5 file\")\n",
    "group = bd5file.create_group('/', 'data', 'data group')\n",
    "\n",
    "# for scaleUnit\n",
    "scaleunit = bd5file.create_table('/data', 'scaleUnit', ScaleUnit, \"definition of scale and unit\")\n",
    "su = scaleunit.row\n",
    "su['dimension'] = \"2D+T\"\n",
    "su['xScale'] = 0.1\n",
    "su['yScale'] = 0.1\n",
    "su['sUnit'] = \"micrometer\"\n",
    "su['tScale'] = 1\n",
    "su['tUnit'] = \"minute\"\n",
    "su.append()\n",
    "scaleunit.flush()\n",
    "\n",
    "# for objectDef\n",
    "objectdef = bd5file.create_table('/data', 'objectDef', ObjectDef, \"object definition\")\n",
    "od = objectdef.row\n",
    "od['oID'] = 0\n",
    "od['name'] = \"nucleus\"\n",
    "od.append()\n",
    "objectdef.flush()\n",
    "\n",
    "# series index\n",
    "series = bd5file.create_group('/data', '0', 'time series index 0')\n",
    "series = bd5file.create_group('/data', '1', 'time series index 1')\n",
    "\n",
    "# object - create a HDF datagroup under time series index as object using pytable h5file.create_group\n",
    "object1 = bd5file.create_group('/data/0', 'object', 'object0') \n",
    "object2 = bd5file.create_group('/data/1', 'object', 'object1')\n"
   ]
  },
  {
   "cell_type": "code",
   "execution_count": 16,
   "metadata": {},
   "outputs": [],
   "source": [
    "# store xy coordinates to dataset table for time series index 0\n",
    "# It also uses a list trackxy0 to store the coordinates for tracking objects over the time points.\n",
    "trackxy0 = []\n",
    "table = bd5file.create_table('/data/0/object', '0', Data, \"dataset\")\n",
    "xyz = table.row\n",
    "for i, cnt in enumerate(contours1):\n",
    "    M = cv2.moments(cnt)\n",
    "    cx = M['m10'] / M['m00']\n",
    "    cy = M['m01'] / M['m00']\n",
    "    xyz['ID'] = \"o000\" + '%03d' % i\n",
    "    xyz['t'] = 0\n",
    "    xyz['entity'] = 'point'\n",
    "    xyz['x'] = cx\n",
    "    xyz['y'] = cy\n",
    "    xyz.append()\n",
    "    trackxy0.append((\"o000\" + '%03d' % i, 0, (cx, cy)) )\n",
    "table.flush()\n"
   ]
  },
  {
   "cell_type": "code",
   "execution_count": 17,
   "metadata": {},
   "outputs": [],
   "source": [
    "# store xy coordinates to dataset table for time series index 1\n",
    "# It also uses a list trackxy1 to store the coordinates for tracking objects over the time points.\n",
    "\n",
    "trackxy1 = []\n",
    "table = bd5file.create_table('/data/1/object', '0', Data, \"dataset\")\n",
    "xyz = table.row\n",
    "for i, cnt in enumerate(contours2):\n",
    "    M = cv2.moments(cnt)\n",
    "    cx = M['m10'] / M['m00']\n",
    "    cy = M['m01'] / M['m00']\n",
    "    xyz['ID'] = \"o000\" + '%03d' % i\n",
    "    xyz['t'] = 1\n",
    "    xyz['entity'] = 'point'\n",
    "    xyz['x'] = cx\n",
    "    xyz['y'] = cy\n",
    "    xyz.append()\n",
    "    trackxy1.append((\"o001\" + '%03d' % i, 1, (cx, cy)) )\n",
    "table.flush()\n"
   ]
  },
  {
   "cell_type": "code",
   "execution_count": 18,
   "metadata": {},
   "outputs": [
    {
     "data": {
      "text/plain": [
       "[('o000000', 0, (189.30436507936508, 193.9308201058201)),\n",
       " ('o000001', 0, (97.73062079611863, 120.28172896681))]"
      ]
     },
     "execution_count": 18,
     "metadata": {},
     "output_type": "execute_result"
    }
   ],
   "source": [
    "trackxy0"
   ]
  },
  {
   "cell_type": "code",
   "execution_count": 19,
   "metadata": {},
   "outputs": [
    {
     "data": {
      "text/plain": [
       "[('o001000', 1, (168.3367092323499, 182.9292528988698)),\n",
       " ('o001001', 1, (75.66309412861138, 105.1637154395775))]"
      ]
     },
     "execution_count": 19,
     "metadata": {},
     "output_type": "execute_result"
    }
   ],
   "source": [
    "trackxy1"
   ]
  },
  {
   "cell_type": "markdown",
   "metadata": {},
   "source": [
    "### Tracking the objects over two time points"
   ]
  },
  {
   "cell_type": "code",
   "execution_count": 20,
   "metadata": {},
   "outputs": [],
   "source": [
    "# It uses a list track to store all the distances between objects of two time points.\n",
    "\n",
    "track = []\n",
    "for i in trackxy0:\n",
    "    for j in trackxy1:\n",
    "        dst = distance.euclidean(i[2], j[2])\n",
    "        track.append((i, j, dst))"
   ]
  },
  {
   "cell_type": "code",
   "execution_count": 21,
   "metadata": {},
   "outputs": [
    {
     "data": {
      "text/plain": [
       "[(('o000000', 0, (189.30436507936508, 193.9308201058201)),\n",
       "  ('o001000', 1, (168.3367092323499, 182.9292528988698)),\n",
       "  23.678620583300745),\n",
       " (('o000000', 0, (189.30436507936508, 193.9308201058201)),\n",
       "  ('o001001', 1, (75.66309412861138, 105.1637154395775)),\n",
       "  144.20103097457482),\n",
       " (('o000001', 0, (97.73062079611863, 120.28172896681)),\n",
       "  ('o001000', 1, (168.3367092323499, 182.9292528988698)),\n",
       "  94.39243602684972),\n",
       " (('o000001', 0, (97.73062079611863, 120.28172896681)),\n",
       "  ('o001001', 1, (75.66309412861138, 105.1637154395775)),\n",
       "  26.749393754452235)]"
      ]
     },
     "execution_count": 21,
     "metadata": {},
     "output_type": "execute_result"
    }
   ],
   "source": [
    "track"
   ]
  },
  {
   "cell_type": "code",
   "execution_count": 22,
   "metadata": {},
   "outputs": [],
   "source": [
    "# Sorting the list track\n",
    "\n",
    "strack = sorted(track, key=lambda x: x[-1])"
   ]
  },
  {
   "cell_type": "code",
   "execution_count": 23,
   "metadata": {},
   "outputs": [
    {
     "data": {
      "text/plain": [
       "[(('o000000', 0, (189.30436507936508, 193.9308201058201)),\n",
       "  ('o001000', 1, (168.3367092323499, 182.9292528988698)),\n",
       "  23.678620583300745),\n",
       " (('o000001', 0, (97.73062079611863, 120.28172896681)),\n",
       "  ('o001001', 1, (75.66309412861138, 105.1637154395775)),\n",
       "  26.749393754452235),\n",
       " (('o000001', 0, (97.73062079611863, 120.28172896681)),\n",
       "  ('o001000', 1, (168.3367092323499, 182.9292528988698)),\n",
       "  94.39243602684972),\n",
       " (('o000000', 0, (189.30436507936508, 193.9308201058201)),\n",
       "  ('o001001', 1, (75.66309412861138, 105.1637154395775)),\n",
       "  144.20103097457482)]"
      ]
     },
     "execution_count": 23,
     "metadata": {},
     "output_type": "execute_result"
    }
   ],
   "source": [
    "strack"
   ]
  },
  {
   "cell_type": "code",
   "execution_count": 24,
   "metadata": {},
   "outputs": [],
   "source": [
    "# We assume that the object will only have one corresponding object in the next time point\n",
    "# Here we eliminate any duplicate objects in the list \n",
    "rtrack = []\n",
    "found = False\n",
    "for i in strack: \n",
    "    if rtrack == []:\n",
    "        rtrack.append(i)\n",
    "    else:\n",
    "        for j in rtrack:\n",
    "            if i[0] == j[0]: \n",
    "                found = True\n",
    "        if found == False:\n",
    "            rtrack.append(i)"
   ]
  },
  {
   "cell_type": "code",
   "execution_count": 25,
   "metadata": {},
   "outputs": [
    {
     "data": {
      "text/plain": [
       "[(('o000000', 0, (189.30436507936508, 193.9308201058201)),\n",
       "  ('o001000', 1, (168.3367092323499, 182.9292528988698)),\n",
       "  23.678620583300745),\n",
       " (('o000001', 0, (97.73062079611863, 120.28172896681)),\n",
       "  ('o001001', 1, (75.66309412861138, 105.1637154395775)),\n",
       "  26.749393754452235)]"
      ]
     },
     "execution_count": 25,
     "metadata": {},
     "output_type": "execute_result"
    }
   ],
   "source": [
    "rtrack"
   ]
  },
  {
   "cell_type": "markdown",
   "metadata": {},
   "source": [
    "### Writing the trackInfo into BD5 file"
   ]
  },
  {
   "cell_type": "code",
   "execution_count": 26,
   "metadata": {},
   "outputs": [],
   "source": [
    "# setting up datatype for trackInfo\n",
    "trackInfo_descr = np.dtype({'names': ['from','to'],\n",
    "               'formats': ['S8', 'S8']})"
   ]
  },
  {
   "cell_type": "code",
   "execution_count": 27,
   "metadata": {},
   "outputs": [],
   "source": [
    "trackinfo = bd5file.create_table('/data', 'trackInfo', trackInfo_descr)\n",
    "for i in rtrack:\n",
    "    trackinfo_row = trackinfo.row\n",
    "    trackinfo_row['from'] = i[0][0]\n",
    "    trackinfo_row['to'] = i[1][0]\n",
    "    trackinfo_row.append()\n",
    "    trackinfo.flush()"
   ]
  },
  {
   "cell_type": "code",
   "execution_count": 28,
   "metadata": {},
   "outputs": [],
   "source": [
    "# Closing the output BD5 file\n",
    "bd5file.close()"
   ]
  },
  {
   "cell_type": "markdown",
   "metadata": {},
   "source": [
    "### Plotting out the contours and tracking of the centroids."
   ]
  },
  {
   "cell_type": "code",
   "execution_count": 30,
   "metadata": {},
   "outputs": [
    {
     "data": {
      "text/plain": [
       "<matplotlib.image.AxesImage at 0x7f7ed592d4a8>"
      ]
     },
     "execution_count": 30,
     "metadata": {},
     "output_type": "execute_result"
    },
    {
     "data": {
      "image/png": "[encoded data removed]",
      "text/plain": [
       "<Figure size 432x288 with 1 Axes>"
      ]
     },
     "metadata": {
      "needs_background": "light"
     },
     "output_type": "display_data"
    }
   ],
   "source": [
    "# creating a background image with the same dimension\n",
    "bkimage = np.zeros((height, width, channel), np.uint8)\n",
    "\n",
    "# plot the contours over the background image\n",
    "cv2.drawContours(bkimage, contours1, -1, (0, 255, 0), 1) \n",
    "cv2.drawContours(bkimage, contours2, -1, (0, 255, 0), 1) \n",
    "for i in rtrack:\n",
    "    x1 = int(i[0][2][0])\n",
    "    y1 = int(i[0][2][1])\n",
    "    x2 = int(i[1][2][0])\n",
    "    y2 = int(i[1][2][1])\n",
    "    cv2.line(bkimage, (x1, y1), (x2, y2), (255, 255, 0), thickness=1)\n",
    "plt.imshow(bkimage)"
   ]
  },
  {
   "cell_type": "code",
   "execution_count": null,
   "metadata": {},
   "outputs": [],
   "source": []
  }
 ],
 "metadata": {
  "kernelspec": {
   "display_name": "Python 3",
   "language": "python",
   "name": "python3"
  },
  "language_info": {
   "codemirror_mode": {
    "name": "ipython",
    "version": 3
   },
   "file_extension": ".py",
   "mimetype": "text/x-python",
   "name": "python",
   "nbconvert_exporter": "python",
   "pygments_lexer": "ipython3",
   "version": "3.6.9"
  }
 },
 "nbformat": 4,
 "nbformat_minor": 2
}
