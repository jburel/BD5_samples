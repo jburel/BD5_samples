{
 "cells": [
  {
   "cell_type": "markdown",
   "metadata": {},
   "source": [
    "## BD5read_count  - reading in an existing BD5 file and analyse the data.\n",
    "\n",
    "BD5read_count is a sample code to demonstrate how to read in an existing BD5 file and do some simple analysis by counting the number of nucleus vs time point and ploting out a prolification curve of *C.elegans*.\n",
    "\n",
    "We choose an existing BD5 file from the SSBD:database.\n",
    "\n",
    "Ref: Bao et al. (2006) Proc Natl Acad Sci USA 103, 2707-2712.\n",
    "\n",
    "SSBD:database ref: http://ssbd.qbic.riken.jp/search3/800faa21-c28c-4b72-bd12-d41f2eed02e8/"
   ]
  },
  {
   "cell_type": "code",
   "execution_count": 1,
   "metadata": {},
   "outputs": [],
   "source": [
    "# Author: Koji Kyoda\n",
    "# sample code for reading an existing BD5 file perform some analysis. \n",
    "\n",
    "import h5py"
   ]
  },
  {
   "cell_type": "code",
   "execution_count": 2,
   "metadata": {},
   "outputs": [],
   "source": [
    "file = \"081505_L1_bd5.h5\"\n",
    "f = h5py.File(file, \"r\")\n",
    "\n",
    "groups= f['data']"
   ]
  },
  {
   "cell_type": "code",
   "execution_count": 3,
   "metadata": {},
   "outputs": [
    {
     "name": "stdout",
     "output_type": "stream",
     "text": [
      "elapsed_time:0.05273914337158203[sec]\n"
     ]
    },
    {
     "data": {
      "image/png": "[encoded data removed]",
      "text/plain": [
       "<Figure size 432x288 with 1 Axes>"
      ]
     },
     "metadata": {
      "needs_background": "light"
     },
     "output_type": "display_data"
    }
   ],
   "source": [
    "import time\n",
    "import matplotlib.pyplot as plt\n",
    "import warnings\n",
    "import matplotlib.cbook\n",
    "warnings.filterwarnings(\"ignore\",category=matplotlib.cbook.mplDeprecation)\n",
    "\n",
    "\n",
    "\n",
    "if __name__ == '__main__':\n",
    "    start = time.time()\n",
    "\n",
    "    no_of_nucleus = []\n",
    "    timept = []\n",
    "    count = 0\n",
    "    while (str(count) in groups.keys()):\n",
    "        name = \"/data/\" + str(count) + \"/object/0\"\n",
    "        dset = f[name]\n",
    "        timept.append(count)\n",
    "        no_of_nucleus.append(dset.len())\n",
    "        count = count + 1\n",
    "\n",
    "    fig=plt.figure()\n",
    "    plt.plot(timept, no_of_nucleus, 'r')\n",
    "    ax = fig.add_subplot(1,1,1)\n",
    "    ax.set_ylabel('num. of nuclei')\n",
    "    ax.set_xlabel('timepoint')\n",
    "    plottitle = 'Proliferation curve (C. elegans): Bao et al. (2006) PNAS'\n",
    "    plt.title(plottitle);\n",
    "        \n",
    "        \n",
    "    elapsed_time = time.time() - start\n",
    "    print (\"elapsed_time:{0}\".format(elapsed_time) + \"[sec]\")"
   ]
  },
  {
   "cell_type": "code",
   "execution_count": null,
   "metadata": {},
   "outputs": [],
   "source": []
  }
 ],
 "metadata": {
  "kernelspec": {
   "display_name": "Python 3",
   "language": "python",
   "name": "python3"
  },
  "language_info": {
   "codemirror_mode": {
    "name": "ipython",
    "version": 3
   },
   "file_extension": ".py",
   "mimetype": "text/x-python",
   "name": "python",
   "nbconvert_exporter": "python",
   "pygments_lexer": "ipython3",
   "version": "3.6.9"
  }
 },
 "nbformat": 4,
 "nbformat_minor": 2
}
