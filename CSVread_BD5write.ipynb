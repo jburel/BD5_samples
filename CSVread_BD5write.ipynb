{
 "cells": [
  {
   "cell_type": "markdown",
   "metadata": {},
   "source": [
    "# CSVread_BD5write\n",
    "\n",
    "CSVread_BD5write is a sample code to demonstrate how to read write in BD5 file by reading a csv file using h5py package instead of pytables package. A simple routine to read back the data and a plot of that data is also provided at the end."
   ]
  },
  {
   "cell_type": "markdown",
   "metadata": {},
   "source": [
    "This sample code requires the user to install several packages. They are:\n",
    "\n",
    "- h5py - https://www.h5py.org/\n",
    "- Numpy - https://numpy.org/\n",
    "- cvs"
   ]
  },
  {
   "cell_type": "code",
   "execution_count": 1,
   "metadata": {},
   "outputs": [],
   "source": [
    "# Please consult the official websites for installation for your particular Operating system and environment.\n",
    "# The following commands installed the necessary packages for juypter notebook in a Ubuntu docker container as a sample for your reference.\n",
    "\n",
    "# Uncomment the # tag if you want the commands below to install those packages.\n",
    "\n",
    "#!pip install h5py"
   ]
  },
  {
   "cell_type": "code",
   "execution_count": 2,
   "metadata": {},
   "outputs": [],
   "source": [
    "# Author: Ken Ho\n",
    "# Date: 25 June 2020\n",
    "# sample code for reading and writing BD5 data from reading and writing csv file\n",
    "\n",
    "import sys\n",
    "import argparse\n",
    "import h5py\n",
    "import numpy as np\n",
    "import csv"
   ]
  },
  {
   "cell_type": "markdown",
   "metadata": {},
   "source": [
    "## Reading in an existing BD5 file and writing it out to a CSV file.\n",
    "\n",
    "We choose an existing BD5 file from the SSBD:database.\n",
    "\n",
    "Ref: Toyoshima et al. (2016) PLoS Computational Biology, 12(6): e1004970\n",
    "\n",
    "SSBD:database ref: http://ssbd.qbic.riken.jp/search3/457938ba-8d6d-4cec-9da9-3d07065f68eb/"
   ]
  },
  {
   "cell_type": "code",
   "execution_count": 3,
   "metadata": {},
   "outputs": [],
   "source": [
    "# We shall try to convert an existing BD5 file and write to a CSV file.\n",
    "# We choose an existing BD5 file from the SSBD database \n",
    "# ref: Toyoshima et al. (2016) PLoS Computational Biology, 12(6): e1004970\n",
    "\n",
    "\n",
    "# Uncomment the # tag for the following command to get the BD5 file from SSBD\n",
    "\n",
    "#!wget http://ssbd.qbic.riken.jp/data/11-Toyoshima-NeuAct/bdml/140911_DiR_x1_worm1_bdml3.0.zip\n",
    "#!unzip 140911_DiR_x1_worm1_bdml3.0.zip"
   ]
  },
  {
   "cell_type": "code",
   "execution_count": 4,
   "metadata": {},
   "outputs": [],
   "source": [
    "## Simple opening a BD5 file using h5py package"
   ]
  },
  {
   "cell_type": "code",
   "execution_count": 5,
   "metadata": {},
   "outputs": [],
   "source": [
    "bd5f = h5py.File(\"140911_DiR_x1_worm1_bd5.h5\", \"r\")"
   ]
  },
  {
   "cell_type": "code",
   "execution_count": 6,
   "metadata": {},
   "outputs": [
    {
     "data": {
      "text/plain": [
       "<HDF5 file \"140911_DiR_x1_worm1_bd5.h5\" (mode r)>"
      ]
     },
     "execution_count": 6,
     "metadata": {},
     "output_type": "execute_result"
    }
   ],
   "source": [
    "bd5f"
   ]
  },
  {
   "cell_type": "markdown",
   "metadata": {},
   "source": [
    "### Writing out to a CSV file \n",
    "\n",
    "We name it \"sample_worm.csv\" using utf-8 encoding and comma ',' delimited.\n",
    "The routine below accesses the BD5 file /data/0/object/0 hdf5 dataset and write it out to the csvfile."
   ]
  },
  {
   "cell_type": "code",
   "execution_count": 7,
   "metadata": {},
   "outputs": [
    {
     "name": "stdout",
     "output_type": "stream",
     "text": [
      "ID: b'1_1' t: b'1' entity: b'point' x: b'43.7292' y: b'137.866' z: b'146.266' label: b'1'\n",
      "ID: b'1_2' t: b'1' entity: b'point' x: b'141.53' y: b'155.895' z: b'142.171' label: b'2'\n",
      "ID: b'1_4' t: b'1' entity: b'point' x: b'442.417' y: b'91.5323' z: b'136.956' label: b'4'\n",
      "ID: b'1_7' t: b'1' entity: b'point' x: b'104.798' y: b'103.505' z: b'135.985' label: b'7'\n",
      "ID: b'1_9' t: b'1' entity: b'point' x: b'274.742' y: b'131.209' z: b'134.768' label: b'9'\n",
      "ID: b'1_10' t: b'1' entity: b'point' x: b'277.959' y: b'141.144' z: b'125.496' label: b'ADLR'\n",
      "ID: b'1_11' t: b'1' entity: b'point' x: b'307.246' y: b'132.674' z: b'135.403' label: b'11'\n",
      "ID: b'1_12' t: b'1' entity: b'point' x: b'344.819' y: b'129.847' z: b'134.136' label: b'12'\n",
      "ID: b'1_13' t: b'1' entity: b'point' x: b'158.224' y: b'139.219' z: b'131.039' label: b'13'\n",
      "ID: b'1_14' t: b'1' entity: b'point' x: b'205.189' y: b'121.154' z: b'130.645' label: b'14'\n",
      "ID: b'1_16' t: b'1' entity: b'point' x: b'98.2573' y: b'58.2109' z: b'129.501' label: b'16'\n",
      "ID: b'1_18' t: b'1' entity: b'point' x: b'247.629' y: b'103.648' z: b'129.328' label: b'18'\n",
      "ID: b'1_19' t: b'1' entity: b'point' x: b'251.52' y: b'98.4271' z: b'118.679' label: b'19'\n",
      "ID: b'1_20' t: b'1' entity: b'point' x: b'165.294' y: b'167.742' z: b'128.957' label: b'20'\n",
      "ID: b'1_21' t: b'1' entity: b'point' x: b'110.039' y: b'107.869' z: b'126.724' label: b'21'\n",
      "ID: b'1_22' t: b'1' entity: b'point' x: b'172.995' y: b'123.791' z: b'125.967' label: b'22'\n",
      "ID: b'1_23' t: b'1' entity: b'point' x: b'338.66' y: b'176.126' z: b'124.665' label: b'23'\n",
      "ID: b'1_24' t: b'1' entity: b'point' x: b'411.036' y: b'120.701' z: b'123.256' label: b'24'\n",
      "ID: b'1_25' t: b'1' entity: b'point' x: b'258.726' y: b'125.366' z: b'123.257' label: b'25'\n",
      "ID: b'1_26' t: b'1' entity: b'point' x: b'189.122' y: b'139.457' z: b'123.941' label: b'26'\n",
      "ID: b'1_27' t: b'1' entity: b'point' x: b'214.003' y: b'95.9684' z: b'122.526' label: b'27'\n",
      "ID: b'1_31' t: b'1' entity: b'point' x: b'291.163' y: b'143.891' z: b'123.062' label: b'ASIR'\n",
      "ID: b'1_35' t: b'1' entity: b'point' x: b'239.481' y: b'123.92' z: b'120.661' label: b'35'\n",
      "ID: b'1_36' t: b'1' entity: b'point' x: b'173.103' y: b'136.881' z: b'128.636' label: b'36'\n",
      "ID: b'1_37' t: b'1' entity: b'point' x: b'172.257' y: b'143.473' z: b'120.353' label: b'37'\n",
      "ID: b'1_38' t: b'1' entity: b'point' x: b'176.653' y: b'151.815' z: b'112.18' label: b'38'\n",
      "ID: b'1_39' t: b'1' entity: b'point' x: b'127.114' y: b'111.079' z: b'119.357' label: b'39'\n",
      "ID: b'1_40' t: b'1' entity: b'point' x: b'320.399' y: b'170.2' z: b'120.852' label: b'40'\n",
      "ID: b'1_41' t: b'1' entity: b'point' x: b'246.737' y: b'139.334' z: b'118.372' label: b'41'\n",
      "ID: b'1_42' t: b'1' entity: b'point' x: b'305.86' y: b'165.045' z: b'118.013' label: b'42'\n",
      "ID: b'1_43' t: b'1' entity: b'point' x: b'240.805' y: b'158.054' z: b'116.933' label: b'43'\n",
      "ID: b'1_44' t: b'1' entity: b'point' x: b'139.99' y: b'75.3995' z: b'116.651' label: b'44'\n",
      "ID: b'1_45' t: b'1' entity: b'point' x: b'291.716' y: b'162.775' z: b'116.164' label: b'45'\n",
      "ID: b'1_46' t: b'1' entity: b'point' x: b'53.072' y: b'170.282' z: b'115.909' label: b'46'\n",
      "ID: b'1_47' t: b'1' entity: b'point' x: b'171.421' y: b'97.7861' z: b'115.521' label: b'47'\n",
      "ID: b'1_48' t: b'1' entity: b'point' x: b'150.479' y: b'156.588' z: b'114.463' label: b'48'\n",
      "ID: b'1_49' t: b'1' entity: b'point' x: b'157.713' y: b'82.3665' z: b'113.363' label: b'49'\n",
      "ID: b'1_50' t: b'1' entity: b'point' x: b'281.75' y: b'168.454' z: b'114.905' label: b'AWBR'\n",
      "ID: b'1_51' t: b'1' entity: b'point' x: b'275.731' y: b'69.5939' z: b'111.494' label: b'51'\n",
      "ID: b'1_52' t: b'1' entity: b'point' x: b'334.016' y: b'107.457' z: b'111.363' label: b'52'\n",
      "ID: b'1_53' t: b'1' entity: b'point' x: b'192.418' y: b'92.2324' z: b'111.009' label: b'53'\n",
      "ID: b'1_54' t: b'1' entity: b'point' x: b'251.651' y: b'148.09' z: b'111.327' label: b'54'\n",
      "ID: b'1_56' t: b'1' entity: b'point' x: b'198.642' y: b'154.825' z: b'116.148' label: b'56'\n",
      "ID: b'1_57' t: b'1' entity: b'point' x: b'204.93' y: b'151.946' z: b'109.684' label: b'57'\n",
      "ID: b'1_58' t: b'1' entity: b'point' x: b'220.224' y: b'159.155' z: b'110.348' label: b'58'\n",
      "ID: b'1_59' t: b'1' entity: b'point' x: b'191.896' y: b'148.962' z: b'108.378' label: b'59'\n",
      "ID: b'1_60' t: b'1' entity: b'point' x: b'278.083' y: b'156.796' z: b'107.952' label: b'60'\n",
      "ID: b'1_61' t: b'1' entity: b'point' x: b'269.146' y: b'163.291' z: b'104.452' label: b'ADFR'\n",
      "ID: b'1_62' t: b'1' entity: b'point' x: b'252.981' y: b'159.81' z: b'107.696' label: b'62'\n",
      "ID: b'1_63' t: b'1' entity: b'point' x: b'260.258' y: b'167.392' z: b'96.2141' label: b'63'\n",
      "ID: b'1_65' t: b'1' entity: b'point' x: b'181.137' y: b'83.3638' z: b'107.766' label: b'65'\n",
      "ID: b'1_66' t: b'1' entity: b'point' x: b'429.617' y: b'191.011' z: b'105.9' label: b'66'\n",
      "ID: b'1_67' t: b'1' entity: b'point' x: b'454.871' y: b'191.368' z: b'104.656' label: b'67'\n",
      "ID: b'1_68' t: b'1' entity: b'point' x: b'260.041' y: b'85.2964' z: b'102.764' label: b'68'\n",
      "ID: b'1_69' t: b'1' entity: b'point' x: b'335.71' y: b'182.488' z: b'102.545' label: b'69'\n",
      "ID: b'1_70' t: b'1' entity: b'point' x: b'241.552' y: b'91.6007' z: b'102.128' label: b'70'\n",
      "ID: b'1_71' t: b'1' entity: b'point' x: b'320.66' y: b'178.618' z: b'113.653' label: b'71'\n",
      "ID: b'1_72' t: b'1' entity: b'point' x: b'315.545' y: b'175.544' z: b'112.319' label: b'72'\n",
      "ID: b'1_73' t: b'1' entity: b'point' x: b'319.486' y: b'176.696' z: b'101.111' label: b'73'\n",
      "ID: b'1_74' t: b'1' entity: b'point' x: b'30.9957' y: b'140.217' z: b'101.443' label: b'74'\n",
      "ID: b'1_75' t: b'1' entity: b'point' x: b'295.241' y: b'75.6978' z: b'97.3244' label: b'ADLL'\n",
      "ID: b'1_76' t: b'1' entity: b'point' x: b'328.908' y: b'64.2465' z: b'98.4303' label: b'76'\n",
      "ID: b'1_79' t: b'1' entity: b'point' x: b'311.373' y: b'71.2556' z: b'94.6803' label: b'ASIL'\n",
      "ID: b'1_81' t: b'1' entity: b'point' x: b'327.423' y: b'195.037' z: b'97.1126' label: b'81'\n",
      "ID: b'1_82' t: b'1' entity: b'point' x: b'213.738' y: b'77.9001' z: b'97.072' label: b'82'\n",
      "ID: b'1_83' t: b'1' entity: b'point' x: b'304.045' y: b'180.398' z: b'106.387' label: b'83'\n",
      "ID: b'1_85' t: b'1' entity: b'point' x: b'305.343' y: b'169.215' z: b'96.9114' label: b'85'\n",
      "ID: b'1_86' t: b'1' entity: b'point' x: b'89.457' y: b'139.447' z: b'93.9432' label: b'86'\n",
      "ID: b'1_87' t: b'1' entity: b'point' x: b'320.952' y: b'148.154' z: b'94.1181' label: b'87'\n",
      "ID: b'1_88' t: b'1' entity: b'point' x: b'394.51' y: b'70.0059' z: b'92.5477' label: b'88'\n",
      "ID: b'1_89' t: b'1' entity: b'point' x: b'170.643' y: b'80.0899' z: b'93.4563' label: b'89'\n",
      "ID: b'1_90' t: b'1' entity: b'point' x: b'163.391' y: b'78.5658' z: b'81.8693' label: b'90'\n",
      "ID: b'1_91' t: b'1' entity: b'point' x: b'190.483' y: b'87.1169' z: b'92.3735' label: b'91'\n",
      "ID: b'1_92' t: b'1' entity: b'point' x: b'76.9668' y: b'157.205' z: b'92.5006' label: b'92'\n",
      "ID: b'1_93' t: b'1' entity: b'point' x: b'21.4689' y: b'103.753' z: b'90.6637' label: b'93'\n",
      "ID: b'1_94' t: b'1' entity: b'point' x: b'89.025' y: b'155.79' z: b'91.3679' label: b'94'\n",
      "ID: b'1_95' t: b'1' entity: b'point' x: b'62.7237' y: b'174.751' z: b'91.8592' label: b'95'\n",
      "ID: b'1_96' t: b'1' entity: b'point' x: b'512.581' y: b'212.956' z: b'91.3346' label: b'96'\n",
      "ID: b'1_97' t: b'1' entity: b'point' x: b'349.333' y: b'83.8364' z: b'90.6122' label: b'97'\n",
      "ID: b'1_98' t: b'1' entity: b'point' x: b'128.325' y: b'145.377' z: b'91.2803' label: b'98'\n",
      "ID: b'1_99' t: b'1' entity: b'point' x: b'277.255' y: b'172.984' z: b'92.702' label: b'99'\n",
      "ID: b'1_100' t: b'1' entity: b'point' x: b'273.594' y: b'157.577' z: b'91.8929' label: b'100'\n",
      "ID: b'1_101' t: b'1' entity: b'point' x: b'273.218' y: b'160.217' z: b'83.7855' label: b'101'\n",
      "ID: b'1_102' t: b'1' entity: b'point' x: b'287.863' y: b'177.018' z: b'100.093' label: b'ASHR'\n",
      "ID: b'1_106' t: b'1' entity: b'point' x: b'234.382' y: b'73.8717' z: b'90.2304' label: b'106'\n",
      "ID: b'1_107' t: b'1' entity: b'point' x: b'265.409' y: b'74.897' z: b'90.0485' label: b'107'\n",
      "ID: b'1_108' t: b'1' entity: b'point' x: b'487.643' y: b'200.832' z: b'90.148' label: b'108'\n",
      "ID: b'1_109' t: b'1' entity: b'point' x: b'323.56' y: b'179.613' z: b'88.7084' label: b'109'\n",
      "ID: b'1_110' t: b'1' entity: b'point' x: b'307.344' y: b'191.197' z: b'89.1482' label: b'110'\n",
      "ID: b'1_111' t: b'1' entity: b'point' x: b'215.162' y: b'157.751' z: b'87.3877' label: b'111'\n",
      "ID: b'1_112' t: b'1' entity: b'point' x: b'254.447' y: b'83.7651' z: b'84.7992' label: b'112'\n",
      "ID: b'1_113' t: b'1' entity: b'point' x: b'321.614' y: b'61.9224' z: b'83.4626' label: b'113'\n",
      "ID: b'1_114' t: b'1' entity: b'point' x: b'362.163' y: b'190.965' z: b'83.128' label: b'114'\n",
      "ID: b'1_115' t: b'1' entity: b'point' x: b'87.7784' y: b'103.43' z: b'81.2074' label: b'115'\n",
      "ID: b'1_117' t: b'1' entity: b'point' x: b'266.108' y: b'84.8266' z: b'79.2517' label: b'117'\n",
      "ID: b'1_118' t: b'1' entity: b'point' x: b'266.342' y: b'89.6678' z: b'65.7452' label: b'118'\n",
      "ID: b'1_120' t: b'1' entity: b'point' x: b'200.89' y: b'151.276' z: b'78.9675' label: b'120'\n",
      "ID: b'1_121' t: b'1' entity: b'point' x: b'306.676' y: b'69.1796' z: b'75.8919' label: b'121'\n",
      "ID: b'1_122' t: b'1' entity: b'point' x: b'183.428' y: b'80.7197' z: b'80.5032' label: b'122'\n",
      "ID: b'1_123' t: b'1' entity: b'point' x: b'180.219' y: b'90.2789' z: b'76.3721' label: b'123'\n",
      "ID: b'1_124' t: b'1' entity: b'point' x: b'334.871' y: b'60.1847' z: b'75.9218' label: b'124'\n",
      "ID: b'1_125' t: b'1' entity: b'point' x: b'205.67' y: b'80.98' z: b'75.5825' label: b'125'\n",
      "ID: b'1_126' t: b'1' entity: b'point' x: b'80.0535' y: b'173.812' z: b'74.3539' label: b'126'\n",
      "ID: b'1_127' t: b'1' entity: b'point' x: b'295.648' y: b'68.6464' z: b'72.43' label: b'AWBL'\n",
      "ID: b'1_128' t: b'1' entity: b'point' x: b'295.487' y: b'81.4897' z: b'72.0319' label: b'128'\n",
      "ID: b'1_129' t: b'1' entity: b'point' x: b'124.37' y: b'100.564' z: b'72.5186' label: b'129'\n",
      "ID: b'1_130' t: b'1' entity: b'point' x: b'213.054' y: b'152.751' z: b'70.39' label: b'130'\n",
      "ID: b'1_131' t: b'1' entity: b'point' x: b'358.749' y: b'56.9325' z: b'69.287' label: b'131'\n",
      "ID: b'1_132' t: b'1' entity: b'point' x: b'85.7995' y: b'91.8152' z: b'68.9071' label: b'132'\n",
      "ID: b'1_133' t: b'1' entity: b'point' x: b'71.8543' y: b'88.4375' z: b'68.3617' label: b'133'\n",
      "ID: b'1_134' t: b'1' entity: b'point' x: b'250.83' y: b'78.9579' z: b'68.0559' label: b'134'\n",
      "ID: b'1_135' t: b'1' entity: b'point' x: b'323.181' y: b'67.9031' z: b'65.5123' label: b'135'\n",
      "ID: b'1_136' t: b'1' entity: b'point' x: b'158.268' y: b'98.4031' z: b'66.8509' label: b'136'\n",
      "ID: b'1_137' t: b'1' entity: b'point' x: b'264.148' y: b'138.07' z: b'67.1768' label: b'137'\n",
      "ID: b'1_138' t: b'1' entity: b'point' x: b'161.985' y: b'139.641' z: b'65.6537' label: b'138'\n",
      "ID: b'1_139' t: b'1' entity: b'point' x: b'321.128' y: b'103.37' z: b'65.3102' label: b'139'\n",
      "ID: b'1_140' t: b'1' entity: b'point' x: b'206.568' y: b'98.1411' z: b'62.6766' label: b'140'\n",
      "ID: b'1_141' t: b'1' entity: b'point' x: b'270.129' y: b'109.527' z: b'63.1849' label: b'141'\n",
      "ID: b'1_142' t: b'1' entity: b'point' x: b'217.322' y: b'138.56' z: b'62.6333' label: b'142'\n",
      "ID: b'1_143' t: b'1' entity: b'point' x: b'205.007' y: b'143.614' z: b'63.128' label: b'143'\n",
      "ID: b'1_144' t: b'1' entity: b'point' x: b'190.002' y: b'99.6071' z: b'61.7148' label: b'144'\n",
      "ID: b'1_145' t: b'1' entity: b'point' x: b'264.029' y: b'123.951' z: b'61.9833' label: b'145'\n",
      "ID: b'1_146' t: b'1' entity: b'point' x: b'290.959' y: b'148.054' z: b'62.4986' label: b'146'\n",
      "ID: b'1_147' t: b'1' entity: b'point' x: b'146.681' y: b'152.594' z: b'61.9463' label: b'147'\n",
      "ID: b'1_148' t: b'1' entity: b'point' x: b'303.079' y: b'161.527' z: b'62.4424' label: b'148'\n",
      "ID: b'1_150' t: b'1' entity: b'point' x: b'311.509' y: b'158.163' z: b'58.5717' label: b'150'\n",
      "ID: b'1_151' t: b'1' entity: b'point' x: b'305.552' y: b'160.853' z: b'46.1962' label: b'151'\n",
      "ID: b'1_153' t: b'1' entity: b'point' x: b'343.708' y: b'62.2251' z: b'58.2005' label: b'153'\n",
      "ID: b'1_154' t: b'1' entity: b'point' x: b'171.488' y: b'123.616' z: b'59.3077' label: b'154'\n",
      "ID: b'1_155' t: b'1' entity: b'point' x: b'277.257' y: b'79.3404' z: b'94.1106' label: b'ASKL'\n",
      "ID: b'1_156' t: b'1' entity: b'point' x: b'291.624' y: b'97.0476' z: b'57.5749' label: b'156'\n",
      "ID: b'1_158' t: b'1' entity: b'point' x: b'299.341' y: b'96.9817' z: b'44.8183' label: b'158'\n",
      "ID: b'1_159' t: b'1' entity: b'point' x: b'302.617' y: b'147.015' z: b'58.1237' label: b'159'\n",
      "ID: b'1_162' t: b'1' entity: b'point' x: b'242.663' y: b'149.051' z: b'56.6229' label: b'162'\n",
      "ID: b'1_163' t: b'1' entity: b'point' x: b'314.971' y: b'173.468' z: b'56.6227' label: b'163'\n",
      "ID: b'1_164' t: b'1' entity: b'point' x: b'277.386' y: b'96.6846' z: b'56.0045' label: b'164'\n",
      "ID: b'1_165' t: b'1' entity: b'point' x: b'183.797' y: b'114.873' z: b'55.2292' label: b'165'\n",
      "ID: b'1_166' t: b'1' entity: b'point' x: b'220.141' y: b'118.426' z: b'55.1712' label: b'166'\n",
      "ID: b'1_167' t: b'1' entity: b'point' x: b'243.541' y: b'135.138' z: b'54.4777' label: b'167'\n",
      "ID: b'1_168' t: b'1' entity: b'point' x: b'298.862' y: b'138.955' z: b'51.3586' label: b'168'\n",
      "ID: b'1_169' t: b'1' entity: b'point' x: b'154.928' y: b'115.89' z: b'51.9498' label: b'169'\n",
      "ID: b'1_170' t: b'1' entity: b'point' x: b'357.432' y: b'64.6094' z: b'50.2697' label: b'170'\n",
      "ID: b'1_171' t: b'1' entity: b'point' x: b'321.357' y: b'79.1961' z: b'48.811' label: b'171'\n",
      "ID: b'1_172' t: b'1' entity: b'point' x: b'308.049' y: b'89.7647' z: b'49.6807' label: b'172'\n",
      "ID: b'1_173' t: b'1' entity: b'point' x: b'297.835' y: b'126.881' z: b'48.4443' label: b'173'\n"
     ]
    },
    {
     "name": "stdout",
     "output_type": "stream",
     "text": [
      "ID: b'1_174' t: b'1' entity: b'point' x: b'328.276' y: b'169.904' z: b'57.5433' label: b'174'\n",
      "ID: b'1_175' t: b'1' entity: b'point' x: b'334.333' y: b'172.958' z: b'47.7158' label: b'175'\n",
      "ID: b'1_176' t: b'1' entity: b'point' x: b'375.3' y: b'178.384' z: b'48.9848' label: b'176'\n",
      "ID: b'1_177' t: b'1' entity: b'point' x: b'422.122' y: b'171.995' z: b'47.6743' label: b'177'\n",
      "ID: b'1_179' t: b'1' entity: b'point' x: b'437.052' y: b'182.876' z: b'46.7368' label: b'179'\n",
      "ID: b'1_181' t: b'1' entity: b'point' x: b'430.285' y: b'77.2609' z: b'42.4585' label: b'181'\n",
      "ID: b'1_182' t: b'1' entity: b'point' x: b'327.605' y: b'137.482' z: b'46.0873' label: b'182'\n",
      "ID: b'1_183' t: b'1' entity: b'point' x: b'317.854' y: b'150.332' z: b'44.3498' label: b'183'\n",
      "ID: b'1_184' t: b'1' entity: b'point' x: b'360.807' y: b'175.286' z: b'44.2082' label: b'184'\n",
      "ID: b'1_185' t: b'1' entity: b'point' x: b'368.524' y: b'168.607' z: b'43.123' label: b'185'\n",
      "ID: b'1_186' t: b'1' entity: b'point' x: b'462.364' y: b'78.1201' z: b'41.3575' label: b'186'\n",
      "ID: b'1_187' t: b'1' entity: b'point' x: b'334.968' y: b'157.569' z: b'41.1173' label: b'187'\n",
      "ID: b'1_188' t: b'1' entity: b'point' x: b'346.551' y: b'73.8947' z: b'40.1492' label: b'188'\n",
      "ID: b'1_191' t: b'1' entity: b'point' x: b'285.824' y: b'150.026' z: b'40.648' label: b'191'\n",
      "ID: b'1_192' t: b'1' entity: b'point' x: b'316.546' y: b'135.433' z: b'39.8062' label: b'192'\n",
      "ID: b'1_193' t: b'1' entity: b'point' x: b'353.037' y: b'161.767' z: b'39.9061' label: b'193'\n",
      "ID: b'1_194' t: b'1' entity: b'point' x: b'427.982' y: b'160.646' z: b'39.1735' label: b'194'\n",
      "ID: b'1_195' t: b'1' entity: b'point' x: b'401.647' y: b'77.8795' z: b'38.0087' label: b'195'\n",
      "ID: b'1_196' t: b'1' entity: b'point' x: b'312.134' y: b'120.835' z: b'36.2632' label: b'196'\n",
      "ID: b'1_198' t: b'1' entity: b'point' x: b'506.99' y: b'74.54' z: b'33.0554' label: b'198'\n",
      "ID: b'1_199' t: b'1' entity: b'point' x: b'329.86' y: b'141.66' z: b'32.9679' label: b'199'\n",
      "ID: b'1_200' t: b'1' entity: b'point' x: b'326.166' y: b'121.863' z: b'29.8891' label: b'200'\n",
      "ID: b'1_201' t: b'1' entity: b'point' x: b'368.802' y: b'148.103' z: b'27.1317' label: b'201'\n",
      "ID: b'1_202' t: b'1' entity: b'point' x: b'445.633' y: b'134.229' z: b'23.9088' label: b'202'\n",
      "ID: b'1_203' t: b'1' entity: b'point' x: b'498.575' y: b'165.345' z: b'24.9457' label: b'203'\n",
      "ID: b'1_204' t: b'1' entity: b'point' x: b'337.295' y: b'126.696' z: b'23.3279' label: b'204'\n",
      "ID: b'1_205' t: b'1' entity: b'point' x: b'433.454' y: b'117.29' z: b'26.5658' label: b'205'\n",
      "ID: b'1_206' t: b'1' entity: b'point' x: b'445.637' y: b'116.81' z: b'22.5276' label: b'206'\n",
      "ID: b'1_207' t: b'1' entity: b'point' x: b'465.511' y: b'159.347' z: b'23.0621' label: b'207'\n",
      "ID: b'1_208' t: b'1' entity: b'point' x: b'477.918' y: b'164.892' z: b'23.3562' label: b'208'\n",
      "ID: b'1_209' t: b'1' entity: b'point' x: b'511.508' y: b'170.617' z: b'23.0935' label: b'209'\n",
      "ID: b'1_210' t: b'1' entity: b'point' x: b'354.861' y: b'133.899' z: b'22.4459' label: b'210'\n",
      "ID: b'1_211' t: b'1' entity: b'point' x: b'486.215' y: b'157.195' z: b'19.1843' label: b'211'\n",
      "ID: b'1_212' t: b'1' entity: b'point' x: b'445.92' y: b'155.934' z: b'18.8751' label: b'212'\n",
      "ID: b'1_213' t: b'1' entity: b'point' x: b'506.557' y: b'159.334' z: b'16.8823' label: b'213'\n",
      "ID: b'1_214' t: b'1' entity: b'point' x: b'368.85' y: b'123.82' z: b'16.0436' label: b'214'\n",
      "ID: b'1_215' t: b'1' entity: b'point' x: b'397.606' y: b'116.543' z: b'13.0312' label: b'215'\n",
      "ID: b'1_216' t: b'1' entity: b'point' x: b'413.774' y: b'119.686' z: b'11.3141' label: b'216'\n",
      "ID: b'1_217' t: b'1' entity: b'point' x: b'325.917' y: b'181.798' z: b'75.5' label: b'217_dummy'\n",
      "ID: b'1_218' t: b'1' entity: b'point' x: b'261.322' y: b'146.578' z: b'119.163' label: b'ASKR'\n",
      "ID: b'1_220' t: b'1' entity: b'point' x: b'305.882' y: b'73.6601' z: b'56.4695' label: b'ASHL'\n",
      "ID: b'1_221' t: b'1' entity: b'point' x: b'341.917' y: b'67.7723' z: b'36.3881' label: b'221_dummy'\n",
      "ID: b'1_222' t: b'1' entity: b'point' x: b'287.281' y: b'84.8654' z: b'57.4602' label: b'222'\n",
      "ID: b'1_157' t: b'1' entity: b'point' x: b'280.609' y: b'84.2175' z: b'70.9411' label: b'ADFL'\n",
      "ID: b'1_105' t: b'1' entity: b'point' x: b'298.367' y: b'170.4' z: b'82.8247' label: b'105'\n",
      "ID: b'1_103' t: b'1' entity: b'point' x: b'293.557' y: b'167.079' z: b'91.1991' label: b'103'\n",
      "ID: b'1_223' t: b'1' entity: b'point' x: b'345.548' y: b'78.4348' z: b'25.475' label: b'ASJL'\n",
      "ID: b'1_224' t: b'1' entity: b'point' x: b'335.371' y: b'189.773' z: b'82.0777' label: b'ASJR'\n"
     ]
    }
   ],
   "source": [
    "with open('sample_worm.csv', 'w', encoding='utf-8', newline='') as csvfile:\n",
    "    writer = csv.writer(csvfile)\n",
    "    writer.writerow([\"ID\", \"t\", \"entity\", \"x\", \"y\", \"z\", \"label\"])\n",
    "    for i in bd5f['/data/0/object/0']:\n",
    "        row = [i['ID'].decode('utf-8'), i['t'].decode('utf-8'), i['entity'].decode('utf-8'), i['x'].decode('utf-8'), i['y'].decode('utf-8'), i['z'].decode('utf-8'), i['label'].decode('utf-8')]\n",
    "        writer.writerow(row)\n",
    "        print(\"ID:\", i['ID'], \"t:\", i['t'], \"entity:\", i['entity'], \"x:\", i['x'], \"y:\", i['y'], \"z:\", i['z'], \"label:\", i['label'])"
   ]
  },
  {
   "cell_type": "markdown",
   "metadata": {},
   "source": [
    "### Closing both the BD5 file and the sample CSV file"
   ]
  },
  {
   "cell_type": "code",
   "execution_count": 8,
   "metadata": {},
   "outputs": [],
   "source": [
    "bd5f.close()\n",
    "csvfile.close()"
   ]
  },
  {
   "cell_type": "markdown",
   "metadata": {},
   "source": [
    "## Reading in the sample CSV file and writing it out to a new BD5 file "
   ]
  },
  {
   "cell_type": "markdown",
   "metadata": {},
   "source": [
    "### Setting up a numpy array to store the data of the CSV file"
   ]
  },
  {
   "cell_type": "code",
   "execution_count": 9,
   "metadata": {},
   "outputs": [],
   "source": [
    "# Setting up a numpy array with the correct data type for reading in the CSV file\n",
    "obj_type = np.dtype({'names': ['ID','t','entity','x', 'y', 'z', 'label'],\n",
    "               'formats': ['S10', 'f8', 'S6', 'f8', 'f8', 'f8', 'S20']})"
   ]
  },
  {
   "cell_type": "code",
   "execution_count": 10,
   "metadata": {},
   "outputs": [],
   "source": [
    "# Reading in the csv file and put it in an numpy array csv_data - delimiter is comma and encoding is utf-8\n",
    "csv_data = np.genfromtxt('sample_worm.csv',delimiter=',', dtype=obj_type, encoding=\"utf-8\", skip_header=1)"
   ]
  },
  {
   "cell_type": "markdown",
   "metadata": {},
   "source": [
    "### Displaying the csv_data numpy array data type and the content:"
   ]
  },
  {
   "cell_type": "code",
   "execution_count": 11,
   "metadata": {},
   "outputs": [
    {
     "data": {
      "text/plain": [
       "dtype([('ID', 'S10'), ('t', '<f8'), ('entity', 'S6'), ('x', '<f8'), ('y', '<f8'), ('z', '<f8'), ('label', 'S20')])"
      ]
     },
     "execution_count": 11,
     "metadata": {},
     "output_type": "execute_result"
    }
   ],
   "source": [
    "csv_data.dtype"
   ]
  },
  {
   "cell_type": "code",
   "execution_count": 12,
   "metadata": {},
   "outputs": [
    {
     "data": {
      "text/plain": [
       "array([(b'1_1', 1., b'point',  43.7292, 137.866 , 146.266 , b'1'),\n",
       "       (b'1_2', 1., b'point', 141.53  , 155.895 , 142.171 , b'2'),\n",
       "       (b'1_4', 1., b'point', 442.417 ,  91.5323, 136.956 , b'4'),\n",
       "       (b'1_7', 1., b'point', 104.798 , 103.505 , 135.985 , b'7'),\n",
       "       (b'1_9', 1., b'point', 274.742 , 131.209 , 134.768 , b'9'),\n",
       "       (b'1_10', 1., b'point', 277.959 , 141.144 , 125.496 , b'ADLR'),\n",
       "       (b'1_11', 1., b'point', 307.246 , 132.674 , 135.403 , b'11'),\n",
       "       (b'1_12', 1., b'point', 344.819 , 129.847 , 134.136 , b'12'),\n",
       "       (b'1_13', 1., b'point', 158.224 , 139.219 , 131.039 , b'13'),\n",
       "       (b'1_14', 1., b'point', 205.189 , 121.154 , 130.645 , b'14'),\n",
       "       (b'1_16', 1., b'point',  98.2573,  58.2109, 129.501 , b'16'),\n",
       "       (b'1_18', 1., b'point', 247.629 , 103.648 , 129.328 , b'18'),\n",
       "       (b'1_19', 1., b'point', 251.52  ,  98.4271, 118.679 , b'19'),\n",
       "       (b'1_20', 1., b'point', 165.294 , 167.742 , 128.957 , b'20'),\n",
       "       (b'1_21', 1., b'point', 110.039 , 107.869 , 126.724 , b'21'),\n",
       "       (b'1_22', 1., b'point', 172.995 , 123.791 , 125.967 , b'22'),\n",
       "       (b'1_23', 1., b'point', 338.66  , 176.126 , 124.665 , b'23'),\n",
       "       (b'1_24', 1., b'point', 411.036 , 120.701 , 123.256 , b'24'),\n",
       "       (b'1_25', 1., b'point', 258.726 , 125.366 , 123.257 , b'25'),\n",
       "       (b'1_26', 1., b'point', 189.122 , 139.457 , 123.941 , b'26'),\n",
       "       (b'1_27', 1., b'point', 214.003 ,  95.9684, 122.526 , b'27'),\n",
       "       (b'1_31', 1., b'point', 291.163 , 143.891 , 123.062 , b'ASIR'),\n",
       "       (b'1_35', 1., b'point', 239.481 , 123.92  , 120.661 , b'35'),\n",
       "       (b'1_36', 1., b'point', 173.103 , 136.881 , 128.636 , b'36'),\n",
       "       (b'1_37', 1., b'point', 172.257 , 143.473 , 120.353 , b'37'),\n",
       "       (b'1_38', 1., b'point', 176.653 , 151.815 , 112.18  , b'38'),\n",
       "       (b'1_39', 1., b'point', 127.114 , 111.079 , 119.357 , b'39'),\n",
       "       (b'1_40', 1., b'point', 320.399 , 170.2   , 120.852 , b'40'),\n",
       "       (b'1_41', 1., b'point', 246.737 , 139.334 , 118.372 , b'41'),\n",
       "       (b'1_42', 1., b'point', 305.86  , 165.045 , 118.013 , b'42'),\n",
       "       (b'1_43', 1., b'point', 240.805 , 158.054 , 116.933 , b'43'),\n",
       "       (b'1_44', 1., b'point', 139.99  ,  75.3995, 116.651 , b'44'),\n",
       "       (b'1_45', 1., b'point', 291.716 , 162.775 , 116.164 , b'45'),\n",
       "       (b'1_46', 1., b'point',  53.072 , 170.282 , 115.909 , b'46'),\n",
       "       (b'1_47', 1., b'point', 171.421 ,  97.7861, 115.521 , b'47'),\n",
       "       (b'1_48', 1., b'point', 150.479 , 156.588 , 114.463 , b'48'),\n",
       "       (b'1_49', 1., b'point', 157.713 ,  82.3665, 113.363 , b'49'),\n",
       "       (b'1_50', 1., b'point', 281.75  , 168.454 , 114.905 , b'AWBR'),\n",
       "       (b'1_51', 1., b'point', 275.731 ,  69.5939, 111.494 , b'51'),\n",
       "       (b'1_52', 1., b'point', 334.016 , 107.457 , 111.363 , b'52'),\n",
       "       (b'1_53', 1., b'point', 192.418 ,  92.2324, 111.009 , b'53'),\n",
       "       (b'1_54', 1., b'point', 251.651 , 148.09  , 111.327 , b'54'),\n",
       "       (b'1_56', 1., b'point', 198.642 , 154.825 , 116.148 , b'56'),\n",
       "       (b'1_57', 1., b'point', 204.93  , 151.946 , 109.684 , b'57'),\n",
       "       (b'1_58', 1., b'point', 220.224 , 159.155 , 110.348 , b'58'),\n",
       "       (b'1_59', 1., b'point', 191.896 , 148.962 , 108.378 , b'59'),\n",
       "       (b'1_60', 1., b'point', 278.083 , 156.796 , 107.952 , b'60'),\n",
       "       (b'1_61', 1., b'point', 269.146 , 163.291 , 104.452 , b'ADFR'),\n",
       "       (b'1_62', 1., b'point', 252.981 , 159.81  , 107.696 , b'62'),\n",
       "       (b'1_63', 1., b'point', 260.258 , 167.392 ,  96.2141, b'63'),\n",
       "       (b'1_65', 1., b'point', 181.137 ,  83.3638, 107.766 , b'65'),\n",
       "       (b'1_66', 1., b'point', 429.617 , 191.011 , 105.9   , b'66'),\n",
       "       (b'1_67', 1., b'point', 454.871 , 191.368 , 104.656 , b'67'),\n",
       "       (b'1_68', 1., b'point', 260.041 ,  85.2964, 102.764 , b'68'),\n",
       "       (b'1_69', 1., b'point', 335.71  , 182.488 , 102.545 , b'69'),\n",
       "       (b'1_70', 1., b'point', 241.552 ,  91.6007, 102.128 , b'70'),\n",
       "       (b'1_71', 1., b'point', 320.66  , 178.618 , 113.653 , b'71'),\n",
       "       (b'1_72', 1., b'point', 315.545 , 175.544 , 112.319 , b'72'),\n",
       "       (b'1_73', 1., b'point', 319.486 , 176.696 , 101.111 , b'73'),\n",
       "       (b'1_74', 1., b'point',  30.9957, 140.217 , 101.443 , b'74'),\n",
       "       (b'1_75', 1., b'point', 295.241 ,  75.6978,  97.3244, b'ADLL'),\n",
       "       (b'1_76', 1., b'point', 328.908 ,  64.2465,  98.4303, b'76'),\n",
       "       (b'1_79', 1., b'point', 311.373 ,  71.2556,  94.6803, b'ASIL'),\n",
       "       (b'1_81', 1., b'point', 327.423 , 195.037 ,  97.1126, b'81'),\n",
       "       (b'1_82', 1., b'point', 213.738 ,  77.9001,  97.072 , b'82'),\n",
       "       (b'1_83', 1., b'point', 304.045 , 180.398 , 106.387 , b'83'),\n",
       "       (b'1_85', 1., b'point', 305.343 , 169.215 ,  96.9114, b'85'),\n",
       "       (b'1_86', 1., b'point',  89.457 , 139.447 ,  93.9432, b'86'),\n",
       "       (b'1_87', 1., b'point', 320.952 , 148.154 ,  94.1181, b'87'),\n",
       "       (b'1_88', 1., b'point', 394.51  ,  70.0059,  92.5477, b'88'),\n",
       "       (b'1_89', 1., b'point', 170.643 ,  80.0899,  93.4563, b'89'),\n",
       "       (b'1_90', 1., b'point', 163.391 ,  78.5658,  81.8693, b'90'),\n",
       "       (b'1_91', 1., b'point', 190.483 ,  87.1169,  92.3735, b'91'),\n",
       "       (b'1_92', 1., b'point',  76.9668, 157.205 ,  92.5006, b'92'),\n",
       "       (b'1_93', 1., b'point',  21.4689, 103.753 ,  90.6637, b'93'),\n",
       "       (b'1_94', 1., b'point',  89.025 , 155.79  ,  91.3679, b'94'),\n",
       "       (b'1_95', 1., b'point',  62.7237, 174.751 ,  91.8592, b'95'),\n",
       "       (b'1_96', 1., b'point', 512.581 , 212.956 ,  91.3346, b'96'),\n",
       "       (b'1_97', 1., b'point', 349.333 ,  83.8364,  90.6122, b'97'),\n",
       "       (b'1_98', 1., b'point', 128.325 , 145.377 ,  91.2803, b'98'),\n",
       "       (b'1_99', 1., b'point', 277.255 , 172.984 ,  92.702 , b'99'),\n",
       "       (b'1_100', 1., b'point', 273.594 , 157.577 ,  91.8929, b'100'),\n",
       "       (b'1_101', 1., b'point', 273.218 , 160.217 ,  83.7855, b'101'),\n",
       "       (b'1_102', 1., b'point', 287.863 , 177.018 , 100.093 , b'ASHR'),\n",
       "       (b'1_106', 1., b'point', 234.382 ,  73.8717,  90.2304, b'106'),\n",
       "       (b'1_107', 1., b'point', 265.409 ,  74.897 ,  90.0485, b'107'),\n",
       "       (b'1_108', 1., b'point', 487.643 , 200.832 ,  90.148 , b'108'),\n",
       "       (b'1_109', 1., b'point', 323.56  , 179.613 ,  88.7084, b'109'),\n",
       "       (b'1_110', 1., b'point', 307.344 , 191.197 ,  89.1482, b'110'),\n",
       "       (b'1_111', 1., b'point', 215.162 , 157.751 ,  87.3877, b'111'),\n",
       "       (b'1_112', 1., b'point', 254.447 ,  83.7651,  84.7992, b'112'),\n",
       "       (b'1_113', 1., b'point', 321.614 ,  61.9224,  83.4626, b'113'),\n",
       "       (b'1_114', 1., b'point', 362.163 , 190.965 ,  83.128 , b'114'),\n",
       "       (b'1_115', 1., b'point',  87.7784, 103.43  ,  81.2074, b'115'),\n",
       "       (b'1_117', 1., b'point', 266.108 ,  84.8266,  79.2517, b'117'),\n",
       "       (b'1_118', 1., b'point', 266.342 ,  89.6678,  65.7452, b'118'),\n",
       "       (b'1_120', 1., b'point', 200.89  , 151.276 ,  78.9675, b'120'),\n",
       "       (b'1_121', 1., b'point', 306.676 ,  69.1796,  75.8919, b'121'),\n",
       "       (b'1_122', 1., b'point', 183.428 ,  80.7197,  80.5032, b'122'),\n",
       "       (b'1_123', 1., b'point', 180.219 ,  90.2789,  76.3721, b'123'),\n",
       "       (b'1_124', 1., b'point', 334.871 ,  60.1847,  75.9218, b'124'),\n",
       "       (b'1_125', 1., b'point', 205.67  ,  80.98  ,  75.5825, b'125'),\n",
       "       (b'1_126', 1., b'point',  80.0535, 173.812 ,  74.3539, b'126'),\n",
       "       (b'1_127', 1., b'point', 295.648 ,  68.6464,  72.43  , b'AWBL'),\n",
       "       (b'1_128', 1., b'point', 295.487 ,  81.4897,  72.0319, b'128'),\n",
       "       (b'1_129', 1., b'point', 124.37  , 100.564 ,  72.5186, b'129'),\n",
       "       (b'1_130', 1., b'point', 213.054 , 152.751 ,  70.39  , b'130'),\n",
       "       (b'1_131', 1., b'point', 358.749 ,  56.9325,  69.287 , b'131'),\n",
       "       (b'1_132', 1., b'point',  85.7995,  91.8152,  68.9071, b'132'),\n",
       "       (b'1_133', 1., b'point',  71.8543,  88.4375,  68.3617, b'133'),\n",
       "       (b'1_134', 1., b'point', 250.83  ,  78.9579,  68.0559, b'134'),\n",
       "       (b'1_135', 1., b'point', 323.181 ,  67.9031,  65.5123, b'135'),\n",
       "       (b'1_136', 1., b'point', 158.268 ,  98.4031,  66.8509, b'136'),\n",
       "       (b'1_137', 1., b'point', 264.148 , 138.07  ,  67.1768, b'137'),\n",
       "       (b'1_138', 1., b'point', 161.985 , 139.641 ,  65.6537, b'138'),\n",
       "       (b'1_139', 1., b'point', 321.128 , 103.37  ,  65.3102, b'139'),\n",
       "       (b'1_140', 1., b'point', 206.568 ,  98.1411,  62.6766, b'140'),\n",
       "       (b'1_141', 1., b'point', 270.129 , 109.527 ,  63.1849, b'141'),\n",
       "       (b'1_142', 1., b'point', 217.322 , 138.56  ,  62.6333, b'142'),\n",
       "       (b'1_143', 1., b'point', 205.007 , 143.614 ,  63.128 , b'143'),\n",
       "       (b'1_144', 1., b'point', 190.002 ,  99.6071,  61.7148, b'144'),\n",
       "       (b'1_145', 1., b'point', 264.029 , 123.951 ,  61.9833, b'145'),\n",
       "       (b'1_146', 1., b'point', 290.959 , 148.054 ,  62.4986, b'146'),\n",
       "       (b'1_147', 1., b'point', 146.681 , 152.594 ,  61.9463, b'147'),\n",
       "       (b'1_148', 1., b'point', 303.079 , 161.527 ,  62.4424, b'148'),\n",
       "       (b'1_150', 1., b'point', 311.509 , 158.163 ,  58.5717, b'150'),\n",
       "       (b'1_151', 1., b'point', 305.552 , 160.853 ,  46.1962, b'151'),\n",
       "       (b'1_153', 1., b'point', 343.708 ,  62.2251,  58.2005, b'153'),\n",
       "       (b'1_154', 1., b'point', 171.488 , 123.616 ,  59.3077, b'154'),\n",
       "       (b'1_155', 1., b'point', 277.257 ,  79.3404,  94.1106, b'ASKL'),\n",
       "       (b'1_156', 1., b'point', 291.624 ,  97.0476,  57.5749, b'156'),\n",
       "       (b'1_158', 1., b'point', 299.341 ,  96.9817,  44.8183, b'158'),\n",
       "       (b'1_159', 1., b'point', 302.617 , 147.015 ,  58.1237, b'159'),\n",
       "       (b'1_162', 1., b'point', 242.663 , 149.051 ,  56.6229, b'162'),\n",
       "       (b'1_163', 1., b'point', 314.971 , 173.468 ,  56.6227, b'163'),\n",
       "       (b'1_164', 1., b'point', 277.386 ,  96.6846,  56.0045, b'164'),\n",
       "       (b'1_165', 1., b'point', 183.797 , 114.873 ,  55.2292, b'165'),\n",
       "       (b'1_166', 1., b'point', 220.141 , 118.426 ,  55.1712, b'166'),\n",
       "       (b'1_167', 1., b'point', 243.541 , 135.138 ,  54.4777, b'167'),\n",
       "       (b'1_168', 1., b'point', 298.862 , 138.955 ,  51.3586, b'168'),\n",
       "       (b'1_169', 1., b'point', 154.928 , 115.89  ,  51.9498, b'169'),\n",
       "       (b'1_170', 1., b'point', 357.432 ,  64.6094,  50.2697, b'170'),\n",
       "       (b'1_171', 1., b'point', 321.357 ,  79.1961,  48.811 , b'171'),\n",
       "       (b'1_172', 1., b'point', 308.049 ,  89.7647,  49.6807, b'172'),\n",
       "       (b'1_173', 1., b'point', 297.835 , 126.881 ,  48.4443, b'173'),\n",
       "       (b'1_174', 1., b'point', 328.276 , 169.904 ,  57.5433, b'174'),\n",
       "       (b'1_175', 1., b'point', 334.333 , 172.958 ,  47.7158, b'175'),\n",
       "       (b'1_176', 1., b'point', 375.3   , 178.384 ,  48.9848, b'176'),\n",
       "       (b'1_177', 1., b'point', 422.122 , 171.995 ,  47.6743, b'177'),\n",
       "       (b'1_179', 1., b'point', 437.052 , 182.876 ,  46.7368, b'179'),\n",
       "       (b'1_181', 1., b'point', 430.285 ,  77.2609,  42.4585, b'181'),\n",
       "       (b'1_182', 1., b'point', 327.605 , 137.482 ,  46.0873, b'182'),\n",
       "       (b'1_183', 1., b'point', 317.854 , 150.332 ,  44.3498, b'183'),\n",
       "       (b'1_184', 1., b'point', 360.807 , 175.286 ,  44.2082, b'184'),\n",
       "       (b'1_185', 1., b'point', 368.524 , 168.607 ,  43.123 , b'185'),\n",
       "       (b'1_186', 1., b'point', 462.364 ,  78.1201,  41.3575, b'186'),\n",
       "       (b'1_187', 1., b'point', 334.968 , 157.569 ,  41.1173, b'187'),\n",
       "       (b'1_188', 1., b'point', 346.551 ,  73.8947,  40.1492, b'188'),\n",
       "       (b'1_191', 1., b'point', 285.824 , 150.026 ,  40.648 , b'191'),\n",
       "       (b'1_192', 1., b'point', 316.546 , 135.433 ,  39.8062, b'192'),\n",
       "       (b'1_193', 1., b'point', 353.037 , 161.767 ,  39.9061, b'193'),\n",
       "       (b'1_194', 1., b'point', 427.982 , 160.646 ,  39.1735, b'194'),\n",
       "       (b'1_195', 1., b'point', 401.647 ,  77.8795,  38.0087, b'195'),\n",
       "       (b'1_196', 1., b'point', 312.134 , 120.835 ,  36.2632, b'196'),\n",
       "       (b'1_198', 1., b'point', 506.99  ,  74.54  ,  33.0554, b'198'),\n",
       "       (b'1_199', 1., b'point', 329.86  , 141.66  ,  32.9679, b'199'),\n",
       "       (b'1_200', 1., b'point', 326.166 , 121.863 ,  29.8891, b'200'),\n",
       "       (b'1_201', 1., b'point', 368.802 , 148.103 ,  27.1317, b'201'),\n",
       "       (b'1_202', 1., b'point', 445.633 , 134.229 ,  23.9088, b'202'),\n",
       "       (b'1_203', 1., b'point', 498.575 , 165.345 ,  24.9457, b'203'),\n",
       "       (b'1_204', 1., b'point', 337.295 , 126.696 ,  23.3279, b'204'),\n",
       "       (b'1_205', 1., b'point', 433.454 , 117.29  ,  26.5658, b'205'),\n",
       "       (b'1_206', 1., b'point', 445.637 , 116.81  ,  22.5276, b'206'),\n",
       "       (b'1_207', 1., b'point', 465.511 , 159.347 ,  23.0621, b'207'),\n",
       "       (b'1_208', 1., b'point', 477.918 , 164.892 ,  23.3562, b'208'),\n",
       "       (b'1_209', 1., b'point', 511.508 , 170.617 ,  23.0935, b'209'),\n",
       "       (b'1_210', 1., b'point', 354.861 , 133.899 ,  22.4459, b'210'),\n",
       "       (b'1_211', 1., b'point', 486.215 , 157.195 ,  19.1843, b'211'),\n",
       "       (b'1_212', 1., b'point', 445.92  , 155.934 ,  18.8751, b'212'),\n",
       "       (b'1_213', 1., b'point', 506.557 , 159.334 ,  16.8823, b'213'),\n",
       "       (b'1_214', 1., b'point', 368.85  , 123.82  ,  16.0436, b'214'),\n",
       "       (b'1_215', 1., b'point', 397.606 , 116.543 ,  13.0312, b'215'),\n",
       "       (b'1_216', 1., b'point', 413.774 , 119.686 ,  11.3141, b'216'),\n",
       "       (b'1_217', 1., b'point', 325.917 , 181.798 ,  75.5   , b'217_dummy'),\n",
       "       (b'1_218', 1., b'point', 261.322 , 146.578 , 119.163 , b'ASKR'),\n",
       "       (b'1_220', 1., b'point', 305.882 ,  73.6601,  56.4695, b'ASHL'),\n",
       "       (b'1_221', 1., b'point', 341.917 ,  67.7723,  36.3881, b'221_dummy'),\n",
       "       (b'1_222', 1., b'point', 287.281 ,  84.8654,  57.4602, b'222'),\n",
       "       (b'1_157', 1., b'point', 280.609 ,  84.2175,  70.9411, b'ADFL'),\n",
       "       (b'1_105', 1., b'point', 298.367 , 170.4   ,  82.8247, b'105'),\n",
       "       (b'1_103', 1., b'point', 293.557 , 167.079 ,  91.1991, b'103'),\n",
       "       (b'1_223', 1., b'point', 345.548 ,  78.4348,  25.475 , b'ASJL'),\n",
       "       (b'1_224', 1., b'point', 335.371 , 189.773 ,  82.0777, b'ASJR')],\n",
       "      dtype=[('ID', 'S10'), ('t', '<f8'), ('entity', 'S6'), ('x', '<f8'), ('y', '<f8'), ('z', '<f8'), ('label', 'S20')])"
      ]
     },
     "execution_count": 12,
     "metadata": {},
     "output_type": "execute_result"
    }
   ],
   "source": [
    "csv_data"
   ]
  },
  {
   "cell_type": "markdown",
   "metadata": {},
   "source": [
    "### Accessing specific data within the numpy array"
   ]
  },
  {
   "cell_type": "code",
   "execution_count": 13,
   "metadata": {},
   "outputs": [
    {
     "data": {
      "text/plain": [
       "b'1_1'"
      ]
     },
     "execution_count": 13,
     "metadata": {},
     "output_type": "execute_result"
    }
   ],
   "source": [
    "csv_data['ID'][0]"
   ]
  },
  {
   "cell_type": "code",
   "execution_count": 14,
   "metadata": {},
   "outputs": [
    {
     "data": {
      "text/plain": [
       "b'point'"
      ]
     },
     "execution_count": 14,
     "metadata": {},
     "output_type": "execute_result"
    }
   ],
   "source": [
    "csv_data['entity'][0]"
   ]
  },
  {
   "cell_type": "code",
   "execution_count": 15,
   "metadata": {},
   "outputs": [
    {
     "name": "stdout",
     "output_type": "stream",
     "text": [
      "b'1_1' b'point' 1.0 43.7292 137.866 146.266 b'1'\n"
     ]
    }
   ],
   "source": [
    "print(csv_data['ID'][0], csv_data['entity'][0],csv_data['t'][0],csv_data['x'][0],csv_data['y'][0],csv_data['z'][0],csv_data['label'][0])"
   ]
  },
  {
   "cell_type": "markdown",
   "metadata": {},
   "source": [
    "## Creating a new BD5 file \"sample_worm_bd5.h5\" from the csv file."
   ]
  },
  {
   "cell_type": "code",
   "execution_count": 16,
   "metadata": {},
   "outputs": [],
   "source": [
    "# Creating a new BD5 file \"sample_worm_bd5.h5\" to write to\n",
    "bd5f = h5py.File(\"sample_csv_bd5.h5\", \"w\")"
   ]
  },
  {
   "cell_type": "markdown",
   "metadata": {},
   "source": [
    "### Creating a hdf5 datagroup \"data\""
   ]
  },
  {
   "cell_type": "code",
   "execution_count": 17,
   "metadata": {},
   "outputs": [],
   "source": [
    "data = bd5f.create_group('/data')"
   ]
  },
  {
   "cell_type": "markdown",
   "metadata": {},
   "source": [
    "### Setting up the scaleUnit type"
   ]
  },
  {
   "cell_type": "code",
   "execution_count": 18,
   "metadata": {},
   "outputs": [],
   "source": [
    "# setting up datatype for scaleUnit\n",
    "su_type = np.dtype({'names': ['dimension','xScale','yScale','zScale', 'sUnit'],\n",
    "               'formats': ['S8', 'f8', 'f8', 'f8', 'S16']})"
   ]
  },
  {
   "cell_type": "markdown",
   "metadata": {},
   "source": [
    "### Creating a hdf5 dataset \"scaleUnit\" under datagroup \"data\"\n",
    "\n",
    "* First setting up the numpy array scaleunit\n",
    "* Create the hdf5 dataset using the numpy array scaleunit"
   ]
  },
  {
   "cell_type": "code",
   "execution_count": 19,
   "metadata": {},
   "outputs": [],
   "source": [
    "# setting up an object to contain the info\n",
    "# User needs to provide the data dimension, xScale, yScale, zScale and sUnit\n",
    "class scaleUnit:\n",
    "# setup some generic default values\n",
    "  def __init__(self, dim):\n",
    "    self.dimension = dim\n",
    "    self.xScale = 1.0 \n",
    "    self.yScale = 1.0\n",
    "    self.zScale = 1.0\n",
    "    self.tScale = 1.0\n",
    "    self.sUnit = 'micrometer'\n",
    "\n",
    "su = scaleUnit('3D')\n",
    "su.xScale = 0.24\n",
    "su.yScale = 0.24\n",
    "su.zScale = 0.252\n",
    "su.sUnit = \"micrometer\"\n",
    "\n",
    "scaleunit = np.array([(su.dimension, su.xScale, su.yScale, su.zScale, su.sUnit)], dtype=su_type)"
   ]
  },
  {
   "cell_type": "code",
   "execution_count": 20,
   "metadata": {},
   "outputs": [],
   "source": [
    "# This is a more compact form of the above without using an object\n",
    "# scaleunit = np.array([('3D', 0.24, 0.24,  0.242, 'micrometer')], dtype=su)"
   ]
  },
  {
   "cell_type": "markdown",
   "metadata": {},
   "source": [
    "Checking the scaleunit content before writing to BD5 file"
   ]
  },
  {
   "cell_type": "code",
   "execution_count": 21,
   "metadata": {},
   "outputs": [
    {
     "data": {
      "text/plain": [
       "b'3D'"
      ]
     },
     "execution_count": 21,
     "metadata": {},
     "output_type": "execute_result"
    }
   ],
   "source": [
    "scaleunit['dimension'][0]"
   ]
  },
  {
   "cell_type": "code",
   "execution_count": 22,
   "metadata": {},
   "outputs": [
    {
     "data": {
      "text/plain": [
       "array([(b'3D', 0.24, 0.24, 0.252, b'micrometer')],\n",
       "      dtype=[('dimension', 'S8'), ('xScale', '<f8'), ('yScale', '<f8'), ('zScale', '<f8'), ('sUnit', 'S16')])"
      ]
     },
     "execution_count": 22,
     "metadata": {},
     "output_type": "execute_result"
    }
   ],
   "source": [
    "scaleunit"
   ]
  },
  {
   "cell_type": "code",
   "execution_count": 23,
   "metadata": {},
   "outputs": [
    {
     "data": {
      "text/plain": [
       "(b'3D', 0.24, 0.24, 0.252, b'micrometer')"
      ]
     },
     "execution_count": 23,
     "metadata": {},
     "output_type": "execute_result"
    }
   ],
   "source": [
    "scaleunit[0]"
   ]
  },
  {
   "cell_type": "markdown",
   "metadata": {},
   "source": [
    "### Creating the \"scaleUnit\" dataset based on scaleunit np.array"
   ]
  },
  {
   "cell_type": "code",
   "execution_count": 24,
   "metadata": {},
   "outputs": [],
   "source": [
    "bd5scaleunit = bd5f.create_dataset('/data/scaleUnit', data=scaleunit)"
   ]
  },
  {
   "cell_type": "markdown",
   "metadata": {},
   "source": [
    "### Similary we create a hdf5 dataset \"objectDef\" under datagroup \"data\""
   ]
  },
  {
   "cell_type": "code",
   "execution_count": 25,
   "metadata": {},
   "outputs": [],
   "source": [
    "# setting up datatype for scaleUnit\n",
    "objdf_type = np.dtype({'names': ['oID','name'],\n",
    "               'formats': ['i4', 'S128']})"
   ]
  },
  {
   "cell_type": "code",
   "execution_count": 26,
   "metadata": {},
   "outputs": [],
   "source": [
    "# setting up an object to contain the info\n",
    "# User needs to provide the oID and name of the object here\n",
    "class objectDef:\n",
    "# setup some generic default values\n",
    "  def __init__(self, name):\n",
    "    self.oID = 0\n",
    "    self.name = name\n",
    "\n",
    "objd = objectDef('nucleus')\n",
    "\n",
    "objectdef = np.array([(objd.oID, objd.name)], dtype=objdf_type)"
   ]
  },
  {
   "cell_type": "code",
   "execution_count": 27,
   "metadata": {},
   "outputs": [
    {
     "data": {
      "text/plain": [
       "(0, b'nucleus')"
      ]
     },
     "execution_count": 27,
     "metadata": {},
     "output_type": "execute_result"
    }
   ],
   "source": [
    "objectdef[0]"
   ]
  },
  {
   "cell_type": "markdown",
   "metadata": {},
   "source": [
    "### Creating the \"objectDef\" dataset based on objectdef np.array"
   ]
  },
  {
   "cell_type": "code",
   "execution_count": 28,
   "metadata": {},
   "outputs": [],
   "source": [
    "bd5objdef = bd5f.create_dataset('/data/objectDef', data=objectdef)"
   ]
  },
  {
   "cell_type": "markdown",
   "metadata": {},
   "source": [
    "### Creating the \"object\" hdf5 datagroup under datagroup \"/data/0\""
   ]
  },
  {
   "cell_type": "code",
   "execution_count": 29,
   "metadata": {},
   "outputs": [],
   "source": [
    "object0 = bd5f.create_group('/data/0/object')"
   ]
  },
  {
   "cell_type": "markdown",
   "metadata": {},
   "source": [
    "### Creating the \"0\" dataset under hdf5 datagroup \"/data/0/object\" using np.array csv_data"
   ]
  },
  {
   "cell_type": "code",
   "execution_count": 30,
   "metadata": {},
   "outputs": [],
   "source": [
    "object00 = bd5f.create_dataset('/data/0/object/0', data=csv_data)"
   ]
  },
  {
   "cell_type": "markdown",
   "metadata": {},
   "source": [
    "### Closing the BD5 file \"sample_worm_bd5.h5\""
   ]
  },
  {
   "cell_type": "code",
   "execution_count": 31,
   "metadata": {},
   "outputs": [],
   "source": [
    "bd5f.close()"
   ]
  },
  {
   "cell_type": "markdown",
   "metadata": {},
   "source": [
    "## Reading back the sample BD5 file that we created"
   ]
  },
  {
   "cell_type": "code",
   "execution_count": 32,
   "metadata": {},
   "outputs": [],
   "source": [
    "bd5f1 = h5py.File(\"sample_csv_bd5.h5\", \"r\")"
   ]
  },
  {
   "cell_type": "code",
   "execution_count": 33,
   "metadata": {},
   "outputs": [
    {
     "data": {
      "text/plain": [
       "(b'3D', 0.24, 0.24, 0.252, b'micrometer')"
      ]
     },
     "execution_count": 33,
     "metadata": {},
     "output_type": "execute_result"
    }
   ],
   "source": [
    "bd5f1['/data/scaleUnit'][0]"
   ]
  },
  {
   "cell_type": "code",
   "execution_count": 34,
   "metadata": {},
   "outputs": [
    {
     "data": {
      "text/plain": [
       "0.24"
      ]
     },
     "execution_count": 34,
     "metadata": {},
     "output_type": "execute_result"
    }
   ],
   "source": [
    "bd5f1['/data/scaleUnit'][0]['xScale']"
   ]
  },
  {
   "cell_type": "code",
   "execution_count": 35,
   "metadata": {},
   "outputs": [
    {
     "data": {
      "text/plain": [
       "(0, b'nucleus')"
      ]
     },
     "execution_count": 35,
     "metadata": {},
     "output_type": "execute_result"
    }
   ],
   "source": [
    "bd5f1['/data/objectDef'][0]"
   ]
  },
  {
   "cell_type": "code",
   "execution_count": 36,
   "metadata": {},
   "outputs": [
    {
     "ename": "AttributeError",
     "evalue": "'slice' object has no attribute 'encode'",
     "output_type": "error",
     "traceback": [
      "\u001b[0;31m---------------------------------------------------------------------------\u001b[0m",
      "\u001b[0;31mAttributeError\u001b[0m                            Traceback (most recent call last)",
      "\u001b[0;32m<ipython-input-36-637b29232fbf>\u001b[0m in \u001b[0;36m<module>\u001b[0;34m\u001b[0m\n\u001b[0;32m----> 1\u001b[0;31m \u001b[0mbd5f1\u001b[0m\u001b[0;34m[\u001b[0m\u001b[0;34m:\u001b[0m\u001b[0;34m]\u001b[0m\u001b[0;34m\u001b[0m\u001b[0;34m\u001b[0m\u001b[0m\n\u001b[0m",
      "\u001b[0;32mh5py/_objects.pyx\u001b[0m in \u001b[0;36mh5py._objects.with_phil.wrapper\u001b[0;34m()\u001b[0m\n",
      "\u001b[0;32mh5py/_objects.pyx\u001b[0m in \u001b[0;36mh5py._objects.with_phil.wrapper\u001b[0;34m()\u001b[0m\n",
      "\u001b[0;32m/usr/local/lib/python3.6/dist-packages/h5py/_hl/group.py\u001b[0m in \u001b[0;36m__getitem__\u001b[0;34m(self, name)\u001b[0m\n\u001b[1;32m    262\u001b[0m                 \u001b[0;32mraise\u001b[0m \u001b[0mValueError\u001b[0m\u001b[0;34m(\u001b[0m\u001b[0;34m\"Invalid HDF5 object reference\"\u001b[0m\u001b[0;34m)\u001b[0m\u001b[0;34m\u001b[0m\u001b[0;34m\u001b[0m\u001b[0m\n\u001b[1;32m    263\u001b[0m         \u001b[0;32melse\u001b[0m\u001b[0;34m:\u001b[0m\u001b[0;34m\u001b[0m\u001b[0;34m\u001b[0m\u001b[0m\n\u001b[0;32m--> 264\u001b[0;31m             \u001b[0moid\u001b[0m \u001b[0;34m=\u001b[0m \u001b[0mh5o\u001b[0m\u001b[0;34m.\u001b[0m\u001b[0mopen\u001b[0m\u001b[0;34m(\u001b[0m\u001b[0mself\u001b[0m\u001b[0;34m.\u001b[0m\u001b[0mid\u001b[0m\u001b[0;34m,\u001b[0m \u001b[0mself\u001b[0m\u001b[0;34m.\u001b[0m\u001b[0m_e\u001b[0m\u001b[0;34m(\u001b[0m\u001b[0mname\u001b[0m\u001b[0;34m)\u001b[0m\u001b[0;34m,\u001b[0m \u001b[0mlapl\u001b[0m\u001b[0;34m=\u001b[0m\u001b[0mself\u001b[0m\u001b[0;34m.\u001b[0m\u001b[0m_lapl\u001b[0m\u001b[0;34m)\u001b[0m\u001b[0;34m\u001b[0m\u001b[0;34m\u001b[0m\u001b[0m\n\u001b[0m\u001b[1;32m    265\u001b[0m \u001b[0;34m\u001b[0m\u001b[0m\n\u001b[1;32m    266\u001b[0m         \u001b[0motype\u001b[0m \u001b[0;34m=\u001b[0m \u001b[0mh5i\u001b[0m\u001b[0;34m.\u001b[0m\u001b[0mget_type\u001b[0m\u001b[0;34m(\u001b[0m\u001b[0moid\u001b[0m\u001b[0;34m)\u001b[0m\u001b[0;34m\u001b[0m\u001b[0;34m\u001b[0m\u001b[0m\n",
      "\u001b[0;32m/usr/local/lib/python3.6/dist-packages/h5py/_hl/base.py\u001b[0m in \u001b[0;36m_e\u001b[0;34m(self, name, lcpl)\u001b[0m\n\u001b[1;32m    135\u001b[0m         \u001b[0;32melse\u001b[0m\u001b[0;34m:\u001b[0m\u001b[0;34m\u001b[0m\u001b[0;34m\u001b[0m\u001b[0m\n\u001b[1;32m    136\u001b[0m             \u001b[0;32mtry\u001b[0m\u001b[0;34m:\u001b[0m\u001b[0;34m\u001b[0m\u001b[0;34m\u001b[0m\u001b[0m\n\u001b[0;32m--> 137\u001b[0;31m                 \u001b[0mname\u001b[0m \u001b[0;34m=\u001b[0m \u001b[0mname\u001b[0m\u001b[0;34m.\u001b[0m\u001b[0mencode\u001b[0m\u001b[0;34m(\u001b[0m\u001b[0;34m'ascii'\u001b[0m\u001b[0;34m)\u001b[0m\u001b[0;34m\u001b[0m\u001b[0;34m\u001b[0m\u001b[0m\n\u001b[0m\u001b[1;32m    138\u001b[0m                 \u001b[0mcoding\u001b[0m \u001b[0;34m=\u001b[0m \u001b[0mh5t\u001b[0m\u001b[0;34m.\u001b[0m\u001b[0mCSET_ASCII\u001b[0m\u001b[0;34m\u001b[0m\u001b[0;34m\u001b[0m\u001b[0m\n\u001b[1;32m    139\u001b[0m             \u001b[0;32mexcept\u001b[0m \u001b[0mUnicodeEncodeError\u001b[0m\u001b[0;34m:\u001b[0m\u001b[0;34m\u001b[0m\u001b[0;34m\u001b[0m\u001b[0m\n",
      "\u001b[0;31mAttributeError\u001b[0m: 'slice' object has no attribute 'encode'"
     ]
    }
   ],
   "source": [
    "bd5f1[:]"
   ]
  },
  {
   "cell_type": "markdown",
   "metadata": {},
   "source": [
    "## Displaying the dataset in a 3D plot using matplotlib package"
   ]
  },
  {
   "cell_type": "code",
   "execution_count": 37,
   "metadata": {},
   "outputs": [],
   "source": [
    "import matplotlib.pyplot as plt"
   ]
  },
  {
   "cell_type": "code",
   "execution_count": 38,
   "metadata": {},
   "outputs": [
    {
     "data": {
      "image/png": "[encoded data removed]",
      "text/plain": [
       "<Figure size 432x288 with 1 Axes>"
      ]
     },
     "metadata": {
      "needs_background": "light"
     },
     "output_type": "display_data"
    }
   ],
   "source": [
    "fig = plt.figure()\n",
    "ax = plt.axes(projection='3d')\n",
    "zdata = bd5f1['/data/0/object/0']['z']*bd5f1['/data/scaleUnit'][0]['zScale']\n",
    "xdata = bd5f1['/data/0/object/0']['x']*bd5f1['/data/scaleUnit'][0]['xScale']\n",
    "ydata = bd5f1['/data/0/object/0']['y']*bd5f1['/data/scaleUnit'][0]['yScale']\n",
    "ax.scatter3D(xdata, ydata, zdata, c=zdata);\n",
    "plt.xlabel('micrometers')\n",
    "plt.ylabel('micrometers')\n",
    "plt.show()"
   ]
  },
  {
   "cell_type": "code",
   "execution_count": 39,
   "metadata": {},
   "outputs": [],
   "source": [
    "# Closing the sample BD5 file\n",
    "bd5f1.close()"
   ]
  },
  {
   "cell_type": "code",
   "execution_count": null,
   "metadata": {},
   "outputs": [],
   "source": []
  }
 ],
 "metadata": {
  "kernelspec": {
   "display_name": "Python 3",
   "language": "python",
   "name": "python3"
  },
  "language_info": {
   "codemirror_mode": {
    "name": "ipython",
    "version": 3
   },
   "file_extension": ".py",
   "mimetype": "text/x-python",
   "name": "python",
   "nbconvert_exporter": "python",
   "pygments_lexer": "ipython3",
   "version": "3.7.3"
  }
 },
 "nbformat": 4,
 "nbformat_minor": 4
}
